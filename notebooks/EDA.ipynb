{
 "cells": [
  {
   "cell_type": "code",
   "execution_count": 1,
   "id": "c1bdedb4",
   "metadata": {},
   "outputs": [],
   "source": [
    "import sys\n",
    "sys.path.append(\"../\") # go to parent dir\n",
    "%load_ext autoreload\n",
    "%autoreload 2"
   ]
  },
  {
   "cell_type": "code",
   "execution_count": 2,
   "id": "eec61538",
   "metadata": {},
   "outputs": [],
   "source": [
    "import xgboost as xgb"
   ]
  },
  {
   "cell_type": "code",
   "execution_count": 3,
   "id": "94009d85",
   "metadata": {},
   "outputs": [],
   "source": [
    "import pandas as pd\n",
    "from sklearn.model_selection import train_test_split\n",
    "import numpy as np\n",
    "from sklearn.metrics import mean_squared_error"
   ]
  },
  {
   "cell_type": "code",
   "execution_count": 4,
   "id": "9a2b6a19",
   "metadata": {},
   "outputs": [],
   "source": [
    "def compare_sets(set1, set2):\n",
    "    union = set1.union(set2)\n",
    "    set_1_unique = set1.difference(set2)\n",
    "    set_2_unique = set2.difference(set1)\n",
    "    \n",
    "    print(f\"set 1 size: {len(set1)}\")\n",
    "    print(f\"set 2 size: {len(set2)}\")\n",
    "    print(f\"Union size: {len(union)}\")\n",
    "    print(f\"set 1 unique elements: {len(set_1_unique)}\")\n",
    "    print(f\"set 2 unique elements: {len(set_2_unique)}\")\n",
    "    return"
   ]
  },
  {
   "cell_type": "markdown",
   "id": "46750f72",
   "metadata": {},
   "source": [
    "### Import data"
   ]
  },
  {
   "cell_type": "code",
   "execution_count": 5,
   "id": "f98eefef",
   "metadata": {},
   "outputs": [],
   "source": [
    "item_categories = pd.read_csv('../data/item_categories.csv')\n",
    "items = pd.read_csv(\"../data/items.csv\")\n",
    "sales_train = pd.read_csv(\"../data/sales_train.csv\")\n",
    "shops = pd.read_csv(\"../data/shops.csv\")\n",
    "test = pd.read_csv(\"../data/test.csv\")\n",
    "sample_subm = pd.read_csv('../data/sample_submission.csv')"
   ]
  },
  {
   "cell_type": "code",
   "execution_count": 6,
   "id": "c14fe56c",
   "metadata": {},
   "outputs": [],
   "source": [
    "# Nov 2015\n",
    "test['date_block_num'] = 34"
   ]
  },
  {
   "cell_type": "code",
   "execution_count": 7,
   "id": "55c120fc",
   "metadata": {},
   "outputs": [
    {
     "data": {
      "text/plain": [
       "(84, 2)"
      ]
     },
     "execution_count": 7,
     "metadata": {},
     "output_type": "execute_result"
    }
   ],
   "source": [
    "# Seems useless - item_name -> item_id, item_category_id mappings are already inside items dataframe\n",
    "item_categories.shape"
   ]
  },
  {
   "cell_type": "code",
   "execution_count": 8,
   "id": "b11bd9dc",
   "metadata": {},
   "outputs": [
    {
     "data": {
      "text/plain": [
       "(22170, 3)"
      ]
     },
     "execution_count": 8,
     "metadata": {},
     "output_type": "execute_result"
    }
   ],
   "source": [
    "items.shape"
   ]
  },
  {
   "cell_type": "code",
   "execution_count": 9,
   "id": "a40837f4",
   "metadata": {},
   "outputs": [
    {
     "data": {
      "text/plain": [
       "(2935849, 6)"
      ]
     },
     "execution_count": 9,
     "metadata": {},
     "output_type": "execute_result"
    }
   ],
   "source": [
    "sales_train.shape"
   ]
  },
  {
   "cell_type": "code",
   "execution_count": 10,
   "id": "a29e8d02",
   "metadata": {},
   "outputs": [
    {
     "data": {
      "text/plain": [
       "(60, 2)"
      ]
     },
     "execution_count": 10,
     "metadata": {},
     "output_type": "execute_result"
    }
   ],
   "source": [
    "# Seems useless - Only maps to shop name\n",
    "shops.shape"
   ]
  },
  {
   "cell_type": "code",
   "execution_count": 11,
   "id": "67ab121f",
   "metadata": {},
   "outputs": [
    {
     "data": {
      "text/html": [
       "<div>\n",
       "<style scoped>\n",
       "    .dataframe tbody tr th:only-of-type {\n",
       "        vertical-align: middle;\n",
       "    }\n",
       "\n",
       "    .dataframe tbody tr th {\n",
       "        vertical-align: top;\n",
       "    }\n",
       "\n",
       "    .dataframe thead th {\n",
       "        text-align: right;\n",
       "    }\n",
       "</style>\n",
       "<table border=\"1\" class=\"dataframe\">\n",
       "  <thead>\n",
       "    <tr style=\"text-align: right;\">\n",
       "      <th></th>\n",
       "      <th>item_name</th>\n",
       "      <th>item_id</th>\n",
       "      <th>item_category_id</th>\n",
       "    </tr>\n",
       "  </thead>\n",
       "  <tbody>\n",
       "    <tr>\n",
       "      <th>0</th>\n",
       "      <td>! ВО ВЛАСТИ НАВАЖДЕНИЯ (ПЛАСТ.)         D</td>\n",
       "      <td>0</td>\n",
       "      <td>40</td>\n",
       "    </tr>\n",
       "    <tr>\n",
       "      <th>1</th>\n",
       "      <td>!ABBYY FineReader 12 Professional Edition Full...</td>\n",
       "      <td>1</td>\n",
       "      <td>76</td>\n",
       "    </tr>\n",
       "    <tr>\n",
       "      <th>2</th>\n",
       "      <td>***В ЛУЧАХ СЛАВЫ   (UNV)                    D</td>\n",
       "      <td>2</td>\n",
       "      <td>40</td>\n",
       "    </tr>\n",
       "    <tr>\n",
       "      <th>3</th>\n",
       "      <td>***ГОЛУБАЯ ВОЛНА  (Univ)                      D</td>\n",
       "      <td>3</td>\n",
       "      <td>40</td>\n",
       "    </tr>\n",
       "    <tr>\n",
       "      <th>4</th>\n",
       "      <td>***КОРОБКА (СТЕКЛО)                       D</td>\n",
       "      <td>4</td>\n",
       "      <td>40</td>\n",
       "    </tr>\n",
       "  </tbody>\n",
       "</table>\n",
       "</div>"
      ],
      "text/plain": [
       "                                           item_name  item_id  \\\n",
       "0          ! ВО ВЛАСТИ НАВАЖДЕНИЯ (ПЛАСТ.)         D        0   \n",
       "1  !ABBYY FineReader 12 Professional Edition Full...        1   \n",
       "2      ***В ЛУЧАХ СЛАВЫ   (UNV)                    D        2   \n",
       "3    ***ГОЛУБАЯ ВОЛНА  (Univ)                      D        3   \n",
       "4        ***КОРОБКА (СТЕКЛО)                       D        4   \n",
       "\n",
       "   item_category_id  \n",
       "0                40  \n",
       "1                76  \n",
       "2                40  \n",
       "3                40  \n",
       "4                40  "
      ]
     },
     "execution_count": 11,
     "metadata": {},
     "output_type": "execute_result"
    }
   ],
   "source": [
    "items.head()"
   ]
  },
  {
   "cell_type": "code",
   "execution_count": 12,
   "id": "0d1579ac",
   "metadata": {},
   "outputs": [],
   "source": [
    "\n",
    "# Sort by date to avoid look ahead bias\n",
    "sales_train = sales_train.sort_values(by='date', ascending=True)"
   ]
  },
  {
   "cell_type": "code",
   "execution_count": 13,
   "id": "bc091c01",
   "metadata": {},
   "outputs": [
    {
     "data": {
      "text/html": [
       "<div>\n",
       "<style scoped>\n",
       "    .dataframe tbody tr th:only-of-type {\n",
       "        vertical-align: middle;\n",
       "    }\n",
       "\n",
       "    .dataframe tbody tr th {\n",
       "        vertical-align: top;\n",
       "    }\n",
       "\n",
       "    .dataframe thead th {\n",
       "        text-align: right;\n",
       "    }\n",
       "</style>\n",
       "<table border=\"1\" class=\"dataframe\">\n",
       "  <thead>\n",
       "    <tr style=\"text-align: right;\">\n",
       "      <th></th>\n",
       "      <th>date</th>\n",
       "      <th>date_block_num</th>\n",
       "      <th>shop_id</th>\n",
       "      <th>item_id</th>\n",
       "      <th>item_price</th>\n",
       "      <th>item_cnt_day</th>\n",
       "    </tr>\n",
       "  </thead>\n",
       "  <tbody>\n",
       "    <tr>\n",
       "      <th>16164</th>\n",
       "      <td>01.01.2013</td>\n",
       "      <td>0</td>\n",
       "      <td>28</td>\n",
       "      <td>11613</td>\n",
       "      <td>1499.0</td>\n",
       "      <td>1.0</td>\n",
       "    </tr>\n",
       "    <tr>\n",
       "      <th>101474</th>\n",
       "      <td>01.01.2013</td>\n",
       "      <td>0</td>\n",
       "      <td>51</td>\n",
       "      <td>10283</td>\n",
       "      <td>667.0</td>\n",
       "      <td>1.0</td>\n",
       "    </tr>\n",
       "    <tr>\n",
       "      <th>10197</th>\n",
       "      <td>01.01.2013</td>\n",
       "      <td>0</td>\n",
       "      <td>19</td>\n",
       "      <td>2828</td>\n",
       "      <td>499.0</td>\n",
       "      <td>1.0</td>\n",
       "    </tr>\n",
       "    <tr>\n",
       "      <th>101457</th>\n",
       "      <td>01.01.2013</td>\n",
       "      <td>0</td>\n",
       "      <td>51</td>\n",
       "      <td>10390</td>\n",
       "      <td>150.0</td>\n",
       "      <td>1.0</td>\n",
       "    </tr>\n",
       "    <tr>\n",
       "      <th>101455</th>\n",
       "      <td>01.01.2013</td>\n",
       "      <td>0</td>\n",
       "      <td>51</td>\n",
       "      <td>10591</td>\n",
       "      <td>110.0</td>\n",
       "      <td>1.0</td>\n",
       "    </tr>\n",
       "  </tbody>\n",
       "</table>\n",
       "</div>"
      ],
      "text/plain": [
       "              date  date_block_num  shop_id  item_id  item_price  item_cnt_day\n",
       "16164   01.01.2013               0       28    11613      1499.0           1.0\n",
       "101474  01.01.2013               0       51    10283       667.0           1.0\n",
       "10197   01.01.2013               0       19     2828       499.0           1.0\n",
       "101457  01.01.2013               0       51    10390       150.0           1.0\n",
       "101455  01.01.2013               0       51    10591       110.0           1.0"
      ]
     },
     "execution_count": 13,
     "metadata": {},
     "output_type": "execute_result"
    }
   ],
   "source": [
    "sales_train.head()"
   ]
  },
  {
   "cell_type": "markdown",
   "id": "18532cbd",
   "metadata": {},
   "source": [
    "### Let's aggregate the data monthly, as predictions are expected to be monthly as well"
   ]
  },
  {
   "cell_type": "code",
   "execution_count": 14,
   "id": "5c56d4ad",
   "metadata": {},
   "outputs": [],
   "source": [
    "from itertools import product"
   ]
  },
  {
   "cell_type": "code",
   "execution_count": 15,
   "id": "f9e46d4e",
   "metadata": {},
   "outputs": [],
   "source": [
    "index_cols = ['shop_id', 'item_id', 'date_block_num']\n",
    "\n",
    "# For every month we create a grid from all shops/items combinations from that month\n",
    "grid = [] \n",
    "for block_num in sales_train['date_block_num'].unique():\n",
    "    cur_shops = sales_train[sales_train['date_block_num']==block_num]['shop_id'].unique()\n",
    "    cur_items = sales_train[sales_train['date_block_num']==block_num]['item_id'].unique()\n",
    "    grid.append(np.array(list(product(*[cur_shops, cur_items, [block_num]])),dtype='int32'))"
   ]
  },
  {
   "cell_type": "code",
   "execution_count": 16,
   "id": "f7c62f11",
   "metadata": {},
   "outputs": [],
   "source": [
    "#turn the grid into pandas dataframe\n",
    "grid = pd.DataFrame(np.vstack(grid), columns = index_cols,dtype=np.int32)"
   ]
  },
  {
   "cell_type": "code",
   "execution_count": 17,
   "id": "6240ca6d",
   "metadata": {},
   "outputs": [],
   "source": [
    "#get aggregated values for (shop_id, item_id, month)\n",
    "gb = sales_train.groupby(index_cols,as_index=False)['item_cnt_day'].agg({'target':'sum'})"
   ]
  },
  {
   "cell_type": "code",
   "execution_count": 18,
   "id": "e294b9f0",
   "metadata": {},
   "outputs": [],
   "source": [
    "#join aggregated data to the grid\n",
    "all_data = pd.merge(grid,gb,how='left',on=index_cols).fillna(0)\n",
    "#sort the data\n",
    "all_data.sort_values(['date_block_num','shop_id','item_id'],inplace=True)"
   ]
  },
  {
   "cell_type": "code",
   "execution_count": 19,
   "id": "93d3b279",
   "metadata": {},
   "outputs": [
    {
     "data": {
      "text/plain": [
       "count    1.091385e+07\n",
       "mean     3.342731e-01\n",
       "std      3.417243e+00\n",
       "min     -2.200000e+01\n",
       "25%      0.000000e+00\n",
       "50%      0.000000e+00\n",
       "75%      0.000000e+00\n",
       "max      2.253000e+03\n",
       "Name: target, dtype: float64"
      ]
     },
     "execution_count": 19,
     "metadata": {},
     "output_type": "execute_result"
    }
   ],
   "source": [
    "all_data['target'].describe()"
   ]
  },
  {
   "cell_type": "code",
   "execution_count": 20,
   "id": "fa7b4295",
   "metadata": {},
   "outputs": [
    {
     "data": {
      "text/plain": [
       "<AxesSubplot:ylabel='Frequency'>"
      ]
     },
     "execution_count": 20,
     "metadata": {},
     "output_type": "execute_result"
    },
    {
     "data": {
      "image/png": "[encoded data removed]",
      "text/plain": [
       "<Figure size 432x288 with 1 Axes>"
      ]
     },
     "metadata": {
      "needs_background": "light"
     },
     "output_type": "display_data"
    }
   ],
   "source": [
    "all_data['target'].plot(kind='hist', bins = np.arange(0,20,2))"
   ]
  },
  {
   "cell_type": "markdown",
   "id": "8f002452",
   "metadata": {},
   "source": [
    "#### All shops are included in train -> Test has only a subset of these shops"
   ]
  },
  {
   "cell_type": "code",
   "execution_count": 21,
   "id": "885cdc2e",
   "metadata": {},
   "outputs": [
    {
     "name": "stdout",
     "output_type": "stream",
     "text": [
      "set 1 size: 60\n",
      "set 2 size: 42\n",
      "Union size: 60\n",
      "set 1 unique elements: 18\n",
      "set 2 unique elements: 0\n"
     ]
    }
   ],
   "source": [
    "compare_sets(set(all_data['shop_id'].unique()), set(test['shop_id'].unique()))"
   ]
  },
  {
   "cell_type": "markdown",
   "id": "ddaaf2b4",
   "metadata": {},
   "source": [
    "### There are new items in test never seen in train "
   ]
  },
  {
   "cell_type": "code",
   "execution_count": 22,
   "id": "941e6971",
   "metadata": {},
   "outputs": [
    {
     "name": "stdout",
     "output_type": "stream",
     "text": [
      "set 1 size: 21807\n",
      "set 2 size: 5100\n",
      "Union size: 22170\n",
      "set 1 unique elements: 17070\n",
      "set 2 unique elements: 363\n"
     ]
    }
   ],
   "source": [
    "compare_sets(set(all_data['item_id'].unique()), set(test['item_id'].unique()))"
   ]
  },
  {
   "cell_type": "code",
   "execution_count": 23,
   "id": "2c355d8e",
   "metadata": {},
   "outputs": [
    {
     "data": {
      "text/html": [
       "<div>\n",
       "<style scoped>\n",
       "    .dataframe tbody tr th:only-of-type {\n",
       "        vertical-align: middle;\n",
       "    }\n",
       "\n",
       "    .dataframe tbody tr th {\n",
       "        vertical-align: top;\n",
       "    }\n",
       "\n",
       "    .dataframe thead th {\n",
       "        text-align: right;\n",
       "    }\n",
       "</style>\n",
       "<table border=\"1\" class=\"dataframe\">\n",
       "  <thead>\n",
       "    <tr style=\"text-align: right;\">\n",
       "      <th></th>\n",
       "      <th>item_name</th>\n",
       "      <th>item_id</th>\n",
       "      <th>item_category_id</th>\n",
       "    </tr>\n",
       "  </thead>\n",
       "  <tbody>\n",
       "    <tr>\n",
       "      <th>0</th>\n",
       "      <td>! ВО ВЛАСТИ НАВАЖДЕНИЯ (ПЛАСТ.)         D</td>\n",
       "      <td>0</td>\n",
       "      <td>40</td>\n",
       "    </tr>\n",
       "    <tr>\n",
       "      <th>1</th>\n",
       "      <td>!ABBYY FineReader 12 Professional Edition Full...</td>\n",
       "      <td>1</td>\n",
       "      <td>76</td>\n",
       "    </tr>\n",
       "    <tr>\n",
       "      <th>2</th>\n",
       "      <td>***В ЛУЧАХ СЛАВЫ   (UNV)                    D</td>\n",
       "      <td>2</td>\n",
       "      <td>40</td>\n",
       "    </tr>\n",
       "    <tr>\n",
       "      <th>3</th>\n",
       "      <td>***ГОЛУБАЯ ВОЛНА  (Univ)                      D</td>\n",
       "      <td>3</td>\n",
       "      <td>40</td>\n",
       "    </tr>\n",
       "    <tr>\n",
       "      <th>4</th>\n",
       "      <td>***КОРОБКА (СТЕКЛО)                       D</td>\n",
       "      <td>4</td>\n",
       "      <td>40</td>\n",
       "    </tr>\n",
       "    <tr>\n",
       "      <th>...</th>\n",
       "      <td>...</td>\n",
       "      <td>...</td>\n",
       "      <td>...</td>\n",
       "    </tr>\n",
       "    <tr>\n",
       "      <th>22165</th>\n",
       "      <td>Ядерный титбит 2 [PC, Цифровая версия]</td>\n",
       "      <td>22165</td>\n",
       "      <td>31</td>\n",
       "    </tr>\n",
       "    <tr>\n",
       "      <th>22166</th>\n",
       "      <td>Язык запросов 1С:Предприятия  [Цифровая версия]</td>\n",
       "      <td>22166</td>\n",
       "      <td>54</td>\n",
       "    </tr>\n",
       "    <tr>\n",
       "      <th>22167</th>\n",
       "      <td>Язык запросов 1С:Предприятия 8 (+CD). Хрустале...</td>\n",
       "      <td>22167</td>\n",
       "      <td>49</td>\n",
       "    </tr>\n",
       "    <tr>\n",
       "      <th>22168</th>\n",
       "      <td>Яйцо для Little Inu</td>\n",
       "      <td>22168</td>\n",
       "      <td>62</td>\n",
       "    </tr>\n",
       "    <tr>\n",
       "      <th>22169</th>\n",
       "      <td>Яйцо дракона (Игра престолов)</td>\n",
       "      <td>22169</td>\n",
       "      <td>69</td>\n",
       "    </tr>\n",
       "  </tbody>\n",
       "</table>\n",
       "<p>22170 rows × 3 columns</p>\n",
       "</div>"
      ],
      "text/plain": [
       "                                               item_name  item_id  \\\n",
       "0              ! ВО ВЛАСТИ НАВАЖДЕНИЯ (ПЛАСТ.)         D        0   \n",
       "1      !ABBYY FineReader 12 Professional Edition Full...        1   \n",
       "2          ***В ЛУЧАХ СЛАВЫ   (UNV)                    D        2   \n",
       "3        ***ГОЛУБАЯ ВОЛНА  (Univ)                      D        3   \n",
       "4            ***КОРОБКА (СТЕКЛО)                       D        4   \n",
       "...                                                  ...      ...   \n",
       "22165             Ядерный титбит 2 [PC, Цифровая версия]    22165   \n",
       "22166    Язык запросов 1С:Предприятия  [Цифровая версия]    22166   \n",
       "22167  Язык запросов 1С:Предприятия 8 (+CD). Хрустале...    22167   \n",
       "22168                                Яйцо для Little Inu    22168   \n",
       "22169                      Яйцо дракона (Игра престолов)    22169   \n",
       "\n",
       "       item_category_id  \n",
       "0                    40  \n",
       "1                    76  \n",
       "2                    40  \n",
       "3                    40  \n",
       "4                    40  \n",
       "...                 ...  \n",
       "22165                31  \n",
       "22166                54  \n",
       "22167                49  \n",
       "22168                62  \n",
       "22169                69  \n",
       "\n",
       "[22170 rows x 3 columns]"
      ]
     },
     "execution_count": 23,
     "metadata": {},
     "output_type": "execute_result"
    }
   ],
   "source": [
    "items"
   ]
  },
  {
   "cell_type": "code",
   "execution_count": 24,
   "id": "23b2f76b",
   "metadata": {},
   "outputs": [],
   "source": [
    "all_data['item_category_id'] = all_data['item_id'].map(items.set_index(\"item_id\")['item_category_id'])"
   ]
  },
  {
   "cell_type": "markdown",
   "id": "f55663dd",
   "metadata": {},
   "source": [
    "### The total quantity of products vary a lot in the training set per month, whereas all the shops in test set have the same qty of products (5100)"
   ]
  },
  {
   "cell_type": "code",
   "execution_count": 25,
   "id": "f35d08f6",
   "metadata": {},
   "outputs": [],
   "source": [
    "### Let's mean encode shop_id and item_id"
   ]
  },
  {
   "cell_type": "code",
   "execution_count": 26,
   "id": "8581456a",
   "metadata": {},
   "outputs": [],
   "source": [
    "num = all_data.groupby('item_category_id')['target'].cumsum() - all_data['target']\n",
    "deno = all_data.groupby('item_id').cumcount() + 1\n",
    "all_data['category_enc_em'] = num/deno\n",
    "all_data['category_enc_em'].fillna(all_data['category_enc_em'].mean(), inplace=True)"
   ]
  },
  {
   "cell_type": "code",
   "execution_count": 27,
   "id": "c7d15249",
   "metadata": {},
   "outputs": [
    {
     "data": {
      "text/plain": [
       "339319        0.000000\n",
       "334959        0.000000\n",
       "334238        0.000000\n",
       "337534        0.000000\n",
       "332909        0.000000\n",
       "              ...     \n",
       "9385392    1412.407572\n",
       "9385338    4916.054264\n",
       "9384465     509.483709\n",
       "9386635       5.872449\n",
       "9384827      21.695332\n",
       "Name: category_enc_em, Length: 10913850, dtype: float64"
      ]
     },
     "execution_count": 27,
     "metadata": {},
     "output_type": "execute_result"
    }
   ],
   "source": [
    "all_data['category_enc_em']"
   ]
  },
  {
   "cell_type": "code",
   "execution_count": 28,
   "id": "38f07509",
   "metadata": {},
   "outputs": [],
   "source": [
    "num = all_data.groupby('item_id')['target'].cumsum() - all_data['target']\n",
    "deno = all_data.groupby('item_id').cumcount()\n",
    "all_data['item_enc_em'] = num/deno\n",
    "all_data['item_enc_em'].fillna(all_data['item_enc_em'].mean(), inplace=True)"
   ]
  },
  {
   "cell_type": "code",
   "execution_count": 29,
   "id": "74c3d353",
   "metadata": {},
   "outputs": [],
   "source": [
    "num = all_data.groupby('shop_id')['target'].cumsum() - all_data['target']\n",
    "deno = all_data.groupby('shop_id').cumcount()\n",
    "all_data['shop_enc_em'] = num/deno\n",
    "all_data['shop_enc_em'].fillna(all_data['shop_enc_em'].mean(), inplace=True)"
   ]
  },
  {
   "cell_type": "code",
   "execution_count": 30,
   "id": "450e1385",
   "metadata": {},
   "outputs": [],
   "source": [
    "num = all_data.groupby(['item_id','shop_id'])['target'].cumsum() - all_data['target']\n",
    "deno = all_data.groupby(['item_id','shop_id']).cumcount()\n",
    "all_data['item_shop_enc_em'] = num/deno\n",
    "all_data['item_shop_enc_em'].fillna(all_data['item_shop_enc_em'].mean(), inplace=True)"
   ]
  },
  {
   "cell_type": "code",
   "execution_count": 31,
   "id": "9a9a882d",
   "metadata": {},
   "outputs": [
    {
     "data": {
      "text/plain": [
       "shop_id             0.009222\n",
       "item_id            -0.014021\n",
       "date_block_num     -0.002233\n",
       "target              1.000000\n",
       "item_category_id   -0.028386\n",
       "category_enc_em     0.012220\n",
       "item_enc_em         0.502536\n",
       "shop_enc_em         0.071617\n",
       "item_shop_enc_em    0.583524\n",
       "Name: target, dtype: float64"
      ]
     },
     "execution_count": 31,
     "metadata": {},
     "output_type": "execute_result"
    }
   ],
   "source": [
    "all_data.corr()['target']"
   ]
  },
  {
   "cell_type": "code",
   "execution_count": 32,
   "id": "5a94d3b0",
   "metadata": {},
   "outputs": [],
   "source": [
    "features = ['item_enc_em','shop_enc_em','item_shop_enc_em', 'date_block_num']"
   ]
  },
  {
   "cell_type": "code",
   "execution_count": 32,
   "id": "3e1bd97f",
   "metadata": {},
   "outputs": [],
   "source": [
    "y = all_data['target']\n",
    "X = all_data[features]\n",
    "\n",
    "X_train, X_test, y_train, y_test = train_test_split(X, y, test_size=0.25, random_state=42)"
   ]
  },
  {
   "cell_type": "code",
   "execution_count": 34,
   "id": "097e9cc1",
   "metadata": {},
   "outputs": [],
   "source": [
    "xgb_reg = xgb.XGBRegressor(max_depth=3, n_estimators=100, n_jobs=2,\n",
    "                           objectvie='reg:squarederror', booster='gbtree',\n",
    "                           random_state=42, learning_rate=0.05, verbosity = 1)"
   ]
  },
  {
   "cell_type": "code",
   "execution_count": 35,
   "id": "71d883be",
   "metadata": {},
   "outputs": [],
   "source": []
  },
  {
   "cell_type": "code",
   "execution_count": 36,
   "id": "65019fc2",
   "metadata": {},
   "outputs": [
    {
     "name": "stdout",
     "output_type": "stream",
     "text": [
      "[03:00:40] WARNING: /Users/travis/build/dmlc/xgboost/src/learner.cc:573: \n",
      "Parameters: { \"objectvie\" } might not be used.\n",
      "\n",
      "  This may not be accurate due to some parameters are only used in language bindings but\n",
      "  passed down to XGBoost core.  Or some parameters are not used but slip through this\n",
      "  verification. Please open an issue if you find above cases.\n",
      "\n",
      "\n"
     ]
    },
    {
     "data": {
      "text/plain": [
       "XGBRegressor(base_score=0.5, booster='gbtree', colsample_bylevel=1,\n",
       "             colsample_bynode=1, colsample_bytree=1, gamma=0, gpu_id=-1,\n",
       "             importance_type='gain', interaction_constraints='',\n",
       "             learning_rate=0.05, max_delta_step=0, max_depth=3,\n",
       "             min_child_weight=1, missing=nan, monotone_constraints='()',\n",
       "             n_estimators=100, n_jobs=2, num_parallel_tree=1,\n",
       "             objectvie='reg:squarederror', random_state=42, reg_alpha=0,\n",
       "             reg_lambda=1, scale_pos_weight=1, subsample=1,\n",
       "             tree_method='approx', validate_parameters=1, verbosity=1)"
      ]
     },
     "execution_count": 36,
     "metadata": {},
     "output_type": "execute_result"
    }
   ],
   "source": [
    "xgb_reg.fit(X_train, y_train)"
   ]
  },
  {
   "cell_type": "code",
   "execution_count": 37,
   "id": "aa6f0f1a",
   "metadata": {},
   "outputs": [
    {
     "data": {
      "text/plain": [
       "9.860163754854613"
      ]
     },
     "execution_count": 37,
     "metadata": {},
     "output_type": "execute_result"
    }
   ],
   "source": [
    "mean_squared_error(xgb_reg.predict(X_train), y_train)"
   ]
  },
  {
   "cell_type": "code",
   "execution_count": 45,
   "id": "728f4e50",
   "metadata": {},
   "outputs": [
    {
     "data": {
      "text/plain": [
       "12.254020379344599"
      ]
     },
     "execution_count": 45,
     "metadata": {},
     "output_type": "execute_result"
    }
   ],
   "source": [
    "mean_squared_error(xgb_reg.predict(X_test), y_test)"
   ]
  },
  {
   "cell_type": "markdown",
   "id": "0b8865d6",
   "metadata": {},
   "source": [
    "#### category_item encoding doesn't help -> How to further explore?"
   ]
  },
  {
   "cell_type": "markdown",
   "id": "94c1c44f",
   "metadata": {},
   "source": [
    "#### Basemodel -> Test MSE = 12.25"
   ]
  },
  {
   "cell_type": "markdown",
   "id": "8e86ecfb",
   "metadata": {},
   "source": [
    "#### Add more features"
   ]
  },
  {
   "cell_type": "code",
   "execution_count": 33,
   "id": "2bd68697",
   "metadata": {},
   "outputs": [],
   "source": [
    "sales_shifted_1 = all_data[['shop_id','item_id','date_block_num','target']].copy()\n",
    "sales_shifted_1['date_block_num'] = sales_shifted_1['date_block_num'] - 1\n",
    "sales_shifted_1 = sales_shifted_1.rename(columns={\"target\":\"target-1\"})\n",
    "\n",
    "sales_shifted_13 = all_data[['shop_id','item_id','date_block_num','target']].copy()\n",
    "sales_shifted_13['date_block_num'] = sales_shifted_13['date_block_num'] - 13\n",
    "sales_shifted_13 = sales_shifted_13.rename(columns={\"target\":\"target-13\"})"
   ]
  },
  {
   "cell_type": "code",
   "execution_count": 34,
   "id": "4bdb57fd",
   "metadata": {},
   "outputs": [],
   "source": [
    "all_data = all_data.merge(sales_shifted_1, how = 'left', on = ['shop_id','item_id','date_block_num'])"
   ]
  },
  {
   "cell_type": "code",
   "execution_count": 35,
   "id": "93d4ce1b",
   "metadata": {},
   "outputs": [
    {
     "data": {
      "text/plain": [
       "0.22686870352808589"
      ]
     },
     "execution_count": 35,
     "metadata": {},
     "output_type": "execute_result"
    }
   ],
   "source": [
    "all_data['target-1'].isnull().mean()"
   ]
  },
  {
   "cell_type": "code",
   "execution_count": 36,
   "id": "e475406d",
   "metadata": {},
   "outputs": [],
   "source": [
    "all_data = all_data.merge(sales_shifted_13, how = 'left', on = ['shop_id','item_id','date_block_num'])"
   ]
  },
  {
   "cell_type": "code",
   "execution_count": 37,
   "id": "e11a9776",
   "metadata": {},
   "outputs": [
    {
     "data": {
      "text/plain": [
       "0.7539932287872749"
      ]
     },
     "execution_count": 37,
     "metadata": {},
     "output_type": "execute_result"
    }
   ],
   "source": [
    "all_data['target-13'].isnull().mean()"
   ]
  },
  {
   "cell_type": "code",
   "execution_count": 38,
   "id": "f1a06534",
   "metadata": {},
   "outputs": [],
   "source": [
    "all_data[['target-1','target-13']] = all_data[['target-1','target-13']].fillna(-999)"
   ]
  },
  {
   "cell_type": "code",
   "execution_count": null,
   "id": "8632bc5b",
   "metadata": {},
   "outputs": [],
   "source": []
  },
  {
   "cell_type": "code",
   "execution_count": 41,
   "id": "506ff845",
   "metadata": {},
   "outputs": [],
   "source": [
    "features = ['item_enc_em','shop_enc_em','item_shop_enc_em', 'date_block_num', 'target-1', 'target-13']\n",
    "y = all_data['target']\n",
    "X = all_data[features]\n",
    "\n",
    "X_train, X_test, y_train, y_test = train_test_split(X, y, test_size=0.25, random_state=42)"
   ]
  },
  {
   "cell_type": "code",
   "execution_count": 70,
   "id": "18276c47",
   "metadata": {},
   "outputs": [
    {
     "name": "stdout",
     "output_type": "stream",
     "text": [
      "[23:59:32] WARNING: /Users/travis/build/dmlc/xgboost/src/learner.cc:573: \n",
      "Parameters: { \"objectvie\" } might not be used.\n",
      "\n",
      "  This may not be accurate due to some parameters are only used in language bindings but\n",
      "  passed down to XGBoost core.  Or some parameters are not used but slip through this\n",
      "  verification. Please open an issue if you find above cases.\n",
      "\n",
      "\n"
     ]
    },
    {
     "data": {
      "text/plain": [
       "XGBRegressor(base_score=0.5, booster='gbtree', colsample_bylevel=1,\n",
       "             colsample_bynode=1, colsample_bytree=1, gamma=0, gpu_id=-1,\n",
       "             importance_type='gain', interaction_constraints='',\n",
       "             learning_rate=0.05, max_delta_step=0, max_depth=3,\n",
       "             min_child_weight=1, missing=nan, monotone_constraints='()',\n",
       "             n_estimators=100, n_jobs=2, num_parallel_tree=1,\n",
       "             objectvie='reg:squarederror', random_state=42, reg_alpha=0,\n",
       "             reg_lambda=1, scale_pos_weight=1, subsample=1,\n",
       "             tree_method='approx', validate_parameters=1, verbosity=1)"
      ]
     },
     "execution_count": 70,
     "metadata": {},
     "output_type": "execute_result"
    }
   ],
   "source": [
    "xgb_reg.fit(X_train, y_train)"
   ]
  },
  {
   "cell_type": "code",
   "execution_count": 71,
   "id": "1d0d0e02",
   "metadata": {},
   "outputs": [
    {
     "data": {
      "text/plain": [
       "7.438418761497941"
      ]
     },
     "execution_count": 71,
     "metadata": {},
     "output_type": "execute_result"
    }
   ],
   "source": [
    "mean_squared_error(xgb_reg.predict(X_train), y_train)"
   ]
  },
  {
   "cell_type": "code",
   "execution_count": 72,
   "id": "28c248ef",
   "metadata": {},
   "outputs": [
    {
     "data": {
      "text/plain": [
       "9.336288734495513"
      ]
     },
     "execution_count": 72,
     "metadata": {},
     "output_type": "execute_result"
    }
   ],
   "source": [
    "mean_squared_error(xgb_reg.predict(X_test), y_test)"
   ]
  },
  {
   "cell_type": "markdown",
   "id": "a797fb9f",
   "metadata": {},
   "source": [
    "- Average price of product in a shop in the previous month\n",
    "- Average price of a product in all shops in the last month\n",
    "- Ratio of the above two\n",
    "\n",
    "- \n",
    "- \n",
    "\n",
    "- Last month total sales / last 12 month total sales\n",
    "\n",
    "- Maximum disccount within a month\n",
    "- Last month price difference\n"
   ]
  },
  {
   "cell_type": "code",
   "execution_count": 39,
   "id": "76ff7b70",
   "metadata": {},
   "outputs": [],
   "source": [
    "price_per_shop = sales_train.groupby(['date_block_num','item_id', 'shop_id'])['item_price'].agg(['min','max','mean']).reset_index(level = ['shop_id'])\n",
    "price_per_shop = price_per_shop.rename(columns={\"min\":\"min_per_shop\", \"max\" : \"max_per_shop\", \"mean\": \"mean_per_shop\"})"
   ]
  },
  {
   "cell_type": "code",
   "execution_count": 40,
   "id": "46b4b231",
   "metadata": {},
   "outputs": [],
   "source": [
    "prices_per_item = sales_train.groupby(['date_block_num','item_id'])['item_price'].agg(['min','max','mean'])\n",
    "prices_per_item = prices_per_item.rename(columns={\"min\":\"min_per_item\", \"max\" : \"max_per_item\", \"mean\": \"mean_per_item\"} )"
   ]
  },
  {
   "cell_type": "code",
   "execution_count": 41,
   "id": "47115e67",
   "metadata": {},
   "outputs": [],
   "source": [
    "price_df = price_per_shop.merge(prices_per_item, how = 'left', left_index=True, right_index=True).reset_index()"
   ]
  },
  {
   "cell_type": "code",
   "execution_count": 42,
   "id": "d0e2f7e7",
   "metadata": {},
   "outputs": [],
   "source": [
    "price_df['date_block_num_-1'] = price_df['date_block_num']-1"
   ]
  },
  {
   "cell_type": "code",
   "execution_count": 43,
   "id": "e9dc0923",
   "metadata": {},
   "outputs": [],
   "source": [
    "price_df['mean_mean_item_discount'] = ( price_df['mean_per_shop'] / price_df['mean_per_item']) - 1"
   ]
  },
  {
   "cell_type": "code",
   "execution_count": 44,
   "id": "ebe1fb35",
   "metadata": {},
   "outputs": [],
   "source": [
    "price_df['mean_min_item_discount'] = ( price_df['mean_per_shop'] / price_df['min_per_item']) - 1"
   ]
  },
  {
   "cell_type": "code",
   "execution_count": 45,
   "id": "b5f8a4d7",
   "metadata": {},
   "outputs": [],
   "source": [
    "price_df['mean_max_item_discount'] = ( price_df['mean_per_shop'] / price_df['max_per_item']) - 1"
   ]
  },
  {
   "cell_type": "code",
   "execution_count": 46,
   "id": "b89ca127",
   "metadata": {},
   "outputs": [],
   "source": [
    "all_data = all_data.merge(price_df.drop(columns = ['date_block_num']), \n",
    "               how = 'left',\n",
    "               left_on = ['shop_id', 'item_id', 'date_block_num'],\n",
    "               right_on = ['shop_id', 'item_id', 'date_block_num_-1'])"
   ]
  },
  {
   "cell_type": "code",
   "execution_count": 47,
   "id": "fc28797e",
   "metadata": {},
   "outputs": [],
   "source": [
    "all_data = all_data.fillna(-999)"
   ]
  },
  {
   "cell_type": "code",
   "execution_count": 48,
   "id": "187e28e5",
   "metadata": {},
   "outputs": [
    {
     "data": {
      "text/html": [
       "<div>\n",
       "<style scoped>\n",
       "    .dataframe tbody tr th:only-of-type {\n",
       "        vertical-align: middle;\n",
       "    }\n",
       "\n",
       "    .dataframe tbody tr th {\n",
       "        vertical-align: top;\n",
       "    }\n",
       "\n",
       "    .dataframe thead th {\n",
       "        text-align: right;\n",
       "    }\n",
       "</style>\n",
       "<table border=\"1\" class=\"dataframe\">\n",
       "  <thead>\n",
       "    <tr style=\"text-align: right;\">\n",
       "      <th></th>\n",
       "      <th>shop_id</th>\n",
       "      <th>item_id</th>\n",
       "      <th>date_block_num</th>\n",
       "      <th>target</th>\n",
       "      <th>item_category_id</th>\n",
       "      <th>category_enc_em</th>\n",
       "      <th>item_enc_em</th>\n",
       "      <th>shop_enc_em</th>\n",
       "      <th>item_shop_enc_em</th>\n",
       "      <th>target-1</th>\n",
       "      <th>...</th>\n",
       "      <th>min_per_shop</th>\n",
       "      <th>max_per_shop</th>\n",
       "      <th>mean_per_shop</th>\n",
       "      <th>min_per_item</th>\n",
       "      <th>max_per_item</th>\n",
       "      <th>mean_per_item</th>\n",
       "      <th>date_block_num_-1</th>\n",
       "      <th>mean_mean_item_discount</th>\n",
       "      <th>mean_min_item_discount</th>\n",
       "      <th>mean_max_item_discount</th>\n",
       "    </tr>\n",
       "  </thead>\n",
       "  <tbody>\n",
       "    <tr>\n",
       "      <th>0</th>\n",
       "      <td>0</td>\n",
       "      <td>19</td>\n",
       "      <td>0</td>\n",
       "      <td>0.0</td>\n",
       "      <td>40</td>\n",
       "      <td>0.000000</td>\n",
       "      <td>0.522174</td>\n",
       "      <td>0.337131</td>\n",
       "      <td>0.533574</td>\n",
       "      <td>-999.0</td>\n",
       "      <td>...</td>\n",
       "      <td>-999.0</td>\n",
       "      <td>-999.0</td>\n",
       "      <td>-999.0</td>\n",
       "      <td>-999.0</td>\n",
       "      <td>-999.0</td>\n",
       "      <td>-999.00000</td>\n",
       "      <td>-999.0</td>\n",
       "      <td>-999.000000</td>\n",
       "      <td>-999.0</td>\n",
       "      <td>-999.000000</td>\n",
       "    </tr>\n",
       "    <tr>\n",
       "      <th>1</th>\n",
       "      <td>0</td>\n",
       "      <td>27</td>\n",
       "      <td>0</td>\n",
       "      <td>0.0</td>\n",
       "      <td>19</td>\n",
       "      <td>0.000000</td>\n",
       "      <td>0.522174</td>\n",
       "      <td>0.000000</td>\n",
       "      <td>0.533574</td>\n",
       "      <td>0.0</td>\n",
       "      <td>...</td>\n",
       "      <td>-999.0</td>\n",
       "      <td>-999.0</td>\n",
       "      <td>-999.0</td>\n",
       "      <td>-999.0</td>\n",
       "      <td>-999.0</td>\n",
       "      <td>-999.00000</td>\n",
       "      <td>-999.0</td>\n",
       "      <td>-999.000000</td>\n",
       "      <td>-999.0</td>\n",
       "      <td>-999.000000</td>\n",
       "    </tr>\n",
       "    <tr>\n",
       "      <th>2</th>\n",
       "      <td>0</td>\n",
       "      <td>28</td>\n",
       "      <td>0</td>\n",
       "      <td>0.0</td>\n",
       "      <td>30</td>\n",
       "      <td>0.000000</td>\n",
       "      <td>0.522174</td>\n",
       "      <td>0.000000</td>\n",
       "      <td>0.533574</td>\n",
       "      <td>0.0</td>\n",
       "      <td>...</td>\n",
       "      <td>-999.0</td>\n",
       "      <td>-999.0</td>\n",
       "      <td>-999.0</td>\n",
       "      <td>-999.0</td>\n",
       "      <td>-999.0</td>\n",
       "      <td>-999.00000</td>\n",
       "      <td>-999.0</td>\n",
       "      <td>-999.000000</td>\n",
       "      <td>-999.0</td>\n",
       "      <td>-999.000000</td>\n",
       "    </tr>\n",
       "    <tr>\n",
       "      <th>3</th>\n",
       "      <td>0</td>\n",
       "      <td>29</td>\n",
       "      <td>0</td>\n",
       "      <td>0.0</td>\n",
       "      <td>23</td>\n",
       "      <td>0.000000</td>\n",
       "      <td>0.522174</td>\n",
       "      <td>0.000000</td>\n",
       "      <td>0.533574</td>\n",
       "      <td>-999.0</td>\n",
       "      <td>...</td>\n",
       "      <td>-999.0</td>\n",
       "      <td>-999.0</td>\n",
       "      <td>-999.0</td>\n",
       "      <td>-999.0</td>\n",
       "      <td>-999.0</td>\n",
       "      <td>-999.00000</td>\n",
       "      <td>-999.0</td>\n",
       "      <td>-999.000000</td>\n",
       "      <td>-999.0</td>\n",
       "      <td>-999.000000</td>\n",
       "    </tr>\n",
       "    <tr>\n",
       "      <th>4</th>\n",
       "      <td>0</td>\n",
       "      <td>32</td>\n",
       "      <td>0</td>\n",
       "      <td>6.0</td>\n",
       "      <td>40</td>\n",
       "      <td>0.000000</td>\n",
       "      <td>0.522174</td>\n",
       "      <td>0.000000</td>\n",
       "      <td>0.533574</td>\n",
       "      <td>10.0</td>\n",
       "      <td>...</td>\n",
       "      <td>221.0</td>\n",
       "      <td>221.0</td>\n",
       "      <td>221.0</td>\n",
       "      <td>221.0</td>\n",
       "      <td>349.0</td>\n",
       "      <td>337.77193</td>\n",
       "      <td>0.0</td>\n",
       "      <td>-0.345712</td>\n",
       "      <td>0.0</td>\n",
       "      <td>-0.366762</td>\n",
       "    </tr>\n",
       "    <tr>\n",
       "      <th>...</th>\n",
       "      <td>...</td>\n",
       "      <td>...</td>\n",
       "      <td>...</td>\n",
       "      <td>...</td>\n",
       "      <td>...</td>\n",
       "      <td>...</td>\n",
       "      <td>...</td>\n",
       "      <td>...</td>\n",
       "      <td>...</td>\n",
       "      <td>...</td>\n",
       "      <td>...</td>\n",
       "      <td>...</td>\n",
       "      <td>...</td>\n",
       "      <td>...</td>\n",
       "      <td>...</td>\n",
       "      <td>...</td>\n",
       "      <td>...</td>\n",
       "      <td>...</td>\n",
       "      <td>...</td>\n",
       "      <td>...</td>\n",
       "      <td>...</td>\n",
       "    </tr>\n",
       "    <tr>\n",
       "      <th>10913845</th>\n",
       "      <td>59</td>\n",
       "      <td>22162</td>\n",
       "      <td>33</td>\n",
       "      <td>0.0</td>\n",
       "      <td>40</td>\n",
       "      <td>1412.407572</td>\n",
       "      <td>1.560268</td>\n",
       "      <td>0.209455</td>\n",
       "      <td>1.777778</td>\n",
       "      <td>-999.0</td>\n",
       "      <td>...</td>\n",
       "      <td>-999.0</td>\n",
       "      <td>-999.0</td>\n",
       "      <td>-999.0</td>\n",
       "      <td>-999.0</td>\n",
       "      <td>-999.0</td>\n",
       "      <td>-999.00000</td>\n",
       "      <td>-999.0</td>\n",
       "      <td>-999.000000</td>\n",
       "      <td>-999.0</td>\n",
       "      <td>-999.000000</td>\n",
       "    </tr>\n",
       "    <tr>\n",
       "      <th>10913846</th>\n",
       "      <td>59</td>\n",
       "      <td>22163</td>\n",
       "      <td>33</td>\n",
       "      <td>0.0</td>\n",
       "      <td>40</td>\n",
       "      <td>4916.054264</td>\n",
       "      <td>0.585938</td>\n",
       "      <td>0.209454</td>\n",
       "      <td>0.000000</td>\n",
       "      <td>-999.0</td>\n",
       "      <td>...</td>\n",
       "      <td>-999.0</td>\n",
       "      <td>-999.0</td>\n",
       "      <td>-999.0</td>\n",
       "      <td>-999.0</td>\n",
       "      <td>-999.0</td>\n",
       "      <td>-999.00000</td>\n",
       "      <td>-999.0</td>\n",
       "      <td>-999.000000</td>\n",
       "      <td>-999.0</td>\n",
       "      <td>-999.000000</td>\n",
       "    </tr>\n",
       "    <tr>\n",
       "      <th>10913847</th>\n",
       "      <td>59</td>\n",
       "      <td>22164</td>\n",
       "      <td>33</td>\n",
       "      <td>0.0</td>\n",
       "      <td>37</td>\n",
       "      <td>509.483709</td>\n",
       "      <td>1.238693</td>\n",
       "      <td>0.209453</td>\n",
       "      <td>0.750000</td>\n",
       "      <td>-999.0</td>\n",
       "      <td>...</td>\n",
       "      <td>-999.0</td>\n",
       "      <td>-999.0</td>\n",
       "      <td>-999.0</td>\n",
       "      <td>-999.0</td>\n",
       "      <td>-999.0</td>\n",
       "      <td>-999.00000</td>\n",
       "      <td>-999.0</td>\n",
       "      <td>-999.000000</td>\n",
       "      <td>-999.0</td>\n",
       "      <td>-999.000000</td>\n",
       "    </tr>\n",
       "    <tr>\n",
       "      <th>10913848</th>\n",
       "      <td>59</td>\n",
       "      <td>22166</td>\n",
       "      <td>33</td>\n",
       "      <td>0.0</td>\n",
       "      <td>54</td>\n",
       "      <td>5.872449</td>\n",
       "      <td>0.296170</td>\n",
       "      <td>0.209452</td>\n",
       "      <td>0.000000</td>\n",
       "      <td>-999.0</td>\n",
       "      <td>...</td>\n",
       "      <td>-999.0</td>\n",
       "      <td>-999.0</td>\n",
       "      <td>-999.0</td>\n",
       "      <td>-999.0</td>\n",
       "      <td>-999.0</td>\n",
       "      <td>-999.00000</td>\n",
       "      <td>-999.0</td>\n",
       "      <td>-999.000000</td>\n",
       "      <td>-999.0</td>\n",
       "      <td>-999.000000</td>\n",
       "    </tr>\n",
       "    <tr>\n",
       "      <th>10913849</th>\n",
       "      <td>59</td>\n",
       "      <td>22167</td>\n",
       "      <td>33</td>\n",
       "      <td>0.0</td>\n",
       "      <td>49</td>\n",
       "      <td>21.695332</td>\n",
       "      <td>1.081967</td>\n",
       "      <td>0.209451</td>\n",
       "      <td>0.160000</td>\n",
       "      <td>-999.0</td>\n",
       "      <td>...</td>\n",
       "      <td>-999.0</td>\n",
       "      <td>-999.0</td>\n",
       "      <td>-999.0</td>\n",
       "      <td>-999.0</td>\n",
       "      <td>-999.0</td>\n",
       "      <td>-999.00000</td>\n",
       "      <td>-999.0</td>\n",
       "      <td>-999.000000</td>\n",
       "      <td>-999.0</td>\n",
       "      <td>-999.000000</td>\n",
       "    </tr>\n",
       "  </tbody>\n",
       "</table>\n",
       "<p>10913850 rows × 21 columns</p>\n",
       "</div>"
      ],
      "text/plain": [
       "          shop_id  item_id  date_block_num  target  item_category_id  \\\n",
       "0               0       19               0     0.0                40   \n",
       "1               0       27               0     0.0                19   \n",
       "2               0       28               0     0.0                30   \n",
       "3               0       29               0     0.0                23   \n",
       "4               0       32               0     6.0                40   \n",
       "...           ...      ...             ...     ...               ...   \n",
       "10913845       59    22162              33     0.0                40   \n",
       "10913846       59    22163              33     0.0                40   \n",
       "10913847       59    22164              33     0.0                37   \n",
       "10913848       59    22166              33     0.0                54   \n",
       "10913849       59    22167              33     0.0                49   \n",
       "\n",
       "          category_enc_em  item_enc_em  shop_enc_em  item_shop_enc_em  \\\n",
       "0                0.000000     0.522174     0.337131          0.533574   \n",
       "1                0.000000     0.522174     0.000000          0.533574   \n",
       "2                0.000000     0.522174     0.000000          0.533574   \n",
       "3                0.000000     0.522174     0.000000          0.533574   \n",
       "4                0.000000     0.522174     0.000000          0.533574   \n",
       "...                   ...          ...          ...               ...   \n",
       "10913845      1412.407572     1.560268     0.209455          1.777778   \n",
       "10913846      4916.054264     0.585938     0.209454          0.000000   \n",
       "10913847       509.483709     1.238693     0.209453          0.750000   \n",
       "10913848         5.872449     0.296170     0.209452          0.000000   \n",
       "10913849        21.695332     1.081967     0.209451          0.160000   \n",
       "\n",
       "          target-1  ...  min_per_shop  max_per_shop  mean_per_shop  \\\n",
       "0           -999.0  ...        -999.0        -999.0         -999.0   \n",
       "1              0.0  ...        -999.0        -999.0         -999.0   \n",
       "2              0.0  ...        -999.0        -999.0         -999.0   \n",
       "3           -999.0  ...        -999.0        -999.0         -999.0   \n",
       "4             10.0  ...         221.0         221.0          221.0   \n",
       "...            ...  ...           ...           ...            ...   \n",
       "10913845    -999.0  ...        -999.0        -999.0         -999.0   \n",
       "10913846    -999.0  ...        -999.0        -999.0         -999.0   \n",
       "10913847    -999.0  ...        -999.0        -999.0         -999.0   \n",
       "10913848    -999.0  ...        -999.0        -999.0         -999.0   \n",
       "10913849    -999.0  ...        -999.0        -999.0         -999.0   \n",
       "\n",
       "          min_per_item  max_per_item  mean_per_item  date_block_num_-1  \\\n",
       "0               -999.0        -999.0     -999.00000             -999.0   \n",
       "1               -999.0        -999.0     -999.00000             -999.0   \n",
       "2               -999.0        -999.0     -999.00000             -999.0   \n",
       "3               -999.0        -999.0     -999.00000             -999.0   \n",
       "4                221.0         349.0      337.77193                0.0   \n",
       "...                ...           ...            ...                ...   \n",
       "10913845        -999.0        -999.0     -999.00000             -999.0   \n",
       "10913846        -999.0        -999.0     -999.00000             -999.0   \n",
       "10913847        -999.0        -999.0     -999.00000             -999.0   \n",
       "10913848        -999.0        -999.0     -999.00000             -999.0   \n",
       "10913849        -999.0        -999.0     -999.00000             -999.0   \n",
       "\n",
       "          mean_mean_item_discount  mean_min_item_discount  \\\n",
       "0                     -999.000000                  -999.0   \n",
       "1                     -999.000000                  -999.0   \n",
       "2                     -999.000000                  -999.0   \n",
       "3                     -999.000000                  -999.0   \n",
       "4                       -0.345712                     0.0   \n",
       "...                           ...                     ...   \n",
       "10913845              -999.000000                  -999.0   \n",
       "10913846              -999.000000                  -999.0   \n",
       "10913847              -999.000000                  -999.0   \n",
       "10913848              -999.000000                  -999.0   \n",
       "10913849              -999.000000                  -999.0   \n",
       "\n",
       "          mean_max_item_discount  \n",
       "0                    -999.000000  \n",
       "1                    -999.000000  \n",
       "2                    -999.000000  \n",
       "3                    -999.000000  \n",
       "4                      -0.366762  \n",
       "...                          ...  \n",
       "10913845             -999.000000  \n",
       "10913846             -999.000000  \n",
       "10913847             -999.000000  \n",
       "10913848             -999.000000  \n",
       "10913849             -999.000000  \n",
       "\n",
       "[10913850 rows x 21 columns]"
      ]
     },
     "execution_count": 48,
     "metadata": {},
     "output_type": "execute_result"
    }
   ],
   "source": [
    "all_data"
   ]
  },
  {
   "cell_type": "code",
   "execution_count": 56,
   "id": "19f2e047",
   "metadata": {},
   "outputs": [],
   "source": [
    "features = ['item_enc_em','shop_enc_em','item_shop_enc_em', 'date_block_num', 'target-1', 'target-13', 'mean_mean_item_discount','mean_min_item_discount', 'mean_max_item_discount']\n",
    "y = all_data['target']\n",
    "X = all_data[features]\n",
    "X_train, X_test, y_train, y_test = train_test_split(X, y, test_size=0.25, random_state=42)"
   ]
  },
  {
   "cell_type": "code",
   "execution_count": 57,
   "id": "525fede7",
   "metadata": {},
   "outputs": [
    {
     "name": "stdout",
     "output_type": "stream",
     "text": [
      "[20:37:36] WARNING: /Users/travis/build/dmlc/xgboost/src/learner.cc:573: \n",
      "Parameters: { \"objectvie\" } might not be used.\n",
      "\n",
      "  This may not be accurate due to some parameters are only used in language bindings but\n",
      "  passed down to XGBoost core.  Or some parameters are not used but slip through this\n",
      "  verification. Please open an issue if you find above cases.\n",
      "\n",
      "\n"
     ]
    },
    {
     "data": {
      "text/plain": [
       "XGBRegressor(base_score=0.5, booster='gbtree', colsample_bylevel=1,\n",
       "             colsample_bynode=1, colsample_bytree=1, gamma=0, gpu_id=-1,\n",
       "             importance_type='gain', interaction_constraints='',\n",
       "             learning_rate=0.05, max_delta_step=0, max_depth=6,\n",
       "             min_child_weight=1, missing=nan, monotone_constraints='()',\n",
       "             n_estimators=100, n_jobs=8, num_parallel_tree=1,\n",
       "             objectvie='reg:squarederror', random_state=42, reg_alpha=0,\n",
       "             reg_lambda=1, scale_pos_weight=1, subsample=1,\n",
       "             tree_method='approx', validate_parameters=1, verbosity=1)"
      ]
     },
     "execution_count": 57,
     "metadata": {},
     "output_type": "execute_result"
    }
   ],
   "source": [
    "xgb_reg = xgb.XGBRegressor(max_depth=6, n_estimators=100, n_jobs=8,\n",
    "                           objectvie='reg:squarederror', booster='gbtree',\n",
    "                           random_state=42, learning_rate=0.05, verbosity = 1)\n",
    "\n",
    "xgb_reg.fit(X_train, y_train)"
   ]
  },
  {
   "cell_type": "code",
   "execution_count": 58,
   "id": "0cfb10fe",
   "metadata": {},
   "outputs": [
    {
     "data": {
      "text/plain": [
       "5.5005509070620136"
      ]
     },
     "execution_count": 58,
     "metadata": {},
     "output_type": "execute_result"
    }
   ],
   "source": [
    "mean_squared_error(xgb_reg.predict(X_train), y_train)"
   ]
  },
  {
   "cell_type": "code",
   "execution_count": 59,
   "id": "09ef0b28",
   "metadata": {},
   "outputs": [
    {
     "data": {
      "text/plain": [
       "7.338816306639139"
      ]
     },
     "execution_count": 59,
     "metadata": {},
     "output_type": "execute_result"
    }
   ],
   "source": [
    "mean_squared_error(xgb_reg.predict(X_test), y_test)"
   ]
  },
  {
   "cell_type": "markdown",
   "id": "10811528",
   "metadata": {},
   "source": [
    "### Very small improvement"
   ]
  },
  {
   "cell_type": "code",
   "execution_count": 49,
   "id": "8bee0287",
   "metadata": {},
   "outputs": [
    {
     "data": {
      "text/plain": [
       "84"
      ]
     },
     "execution_count": 49,
     "metadata": {},
     "output_type": "execute_result"
    }
   ],
   "source": [
    "all_data['item_category_id'].nunique()"
   ]
  },
  {
   "cell_type": "code",
   "execution_count": null,
   "id": "9e60d682",
   "metadata": {},
   "outputs": [],
   "source": []
  },
  {
   "cell_type": "code",
   "execution_count": 50,
   "id": "dc328344",
   "metadata": {},
   "outputs": [
    {
     "data": {
      "text/plain": [
       "21807"
      ]
     },
     "execution_count": 50,
     "metadata": {},
     "output_type": "execute_result"
    }
   ],
   "source": [
    "all_data['item_id'].nunique()"
   ]
  },
  {
   "cell_type": "code",
   "execution_count": null,
   "id": "35c5cc75",
   "metadata": {},
   "outputs": [],
   "source": []
  },
  {
   "cell_type": "code",
   "execution_count": 49,
   "id": "eba25618",
   "metadata": {},
   "outputs": [],
   "source": [
    "sales_train['revenue'] = sales_train['item_price'] * sales_train['item_cnt_day']"
   ]
  },
  {
   "cell_type": "code",
   "execution_count": 50,
   "id": "cf3a0f25",
   "metadata": {},
   "outputs": [],
   "source": [
    "total_rev_shop = sales_train.groupby(['date_block_num','shop_id'])['revenue'].sum().reset_index().copy()\n",
    "total_rev_shop = total_rev_shop.rename(columns = {'revenue' : 'revenue_shop'})"
   ]
  },
  {
   "cell_type": "code",
   "execution_count": 51,
   "id": "9bfe7dca",
   "metadata": {},
   "outputs": [],
   "source": [
    "total_rev_shop['date_block_num_-1'] = total_rev_shop['date_block_num'] - 1\n",
    "total_rev_shop['date_block_num_-13'] = total_rev_shop['date_block_num'] - 13"
   ]
  },
  {
   "cell_type": "code",
   "execution_count": 52,
   "id": "d8c577eb",
   "metadata": {},
   "outputs": [],
   "source": [
    "total_rev_shop_1 = total_rev_shop.set_index([\"date_block_num_-1\", \"shop_id\"])['revenue_shop'].reset_index().rename(columns={\"revenue_shop\":\"revenue_shop_-1\"})\n",
    "total_rev_shop_13 = total_rev_shop.set_index([\"date_block_num_-13\",\"shop_id\"])['revenue_shop'].reset_index().rename(columns={\"revenue_shop\":\"revenue_shop_-13\"})"
   ]
  },
  {
   "cell_type": "code",
   "execution_count": null,
   "id": "9e495869",
   "metadata": {},
   "outputs": [],
   "source": []
  },
  {
   "cell_type": "code",
   "execution_count": 53,
   "id": "1898afd3",
   "metadata": {},
   "outputs": [],
   "source": [
    "total_rev_item = sales_train.groupby(['date_block_num','item_id'])['revenue'].sum().reset_index().copy()\n",
    "total_rev_item = total_rev_item.rename(columns={\"revenue\":\"revenue_item\"})"
   ]
  },
  {
   "cell_type": "code",
   "execution_count": 54,
   "id": "241aa9d3",
   "metadata": {},
   "outputs": [],
   "source": [
    "total_rev_item['date_block_num_-1'] = total_rev_item['date_block_num'] - 1\n",
    "total_rev_item['date_block_num_-13'] = total_rev_item['date_block_num'] - 13"
   ]
  },
  {
   "cell_type": "code",
   "execution_count": 55,
   "id": "9aeb349c",
   "metadata": {},
   "outputs": [],
   "source": [
    "total_rev_item_1 = total_rev_item.set_index([\"date_block_num_-1\",\"item_id\"])['revenue_item'].reset_index().rename(columns={\"revenue_item\":\"revenue_item_-1\"})\n",
    "total_rev_item_1 = total_rev_item_1.fillna(0) + 1\n",
    "total_rev_item_13 = total_rev_item.set_index([\"date_block_num_-13\",\"item_id\"])['revenue_item'].reset_index().rename(columns={\"revenue_item\":\"revenue_item_-13\"})\n",
    "total_rev_item_13 = total_rev_item_13.fillna(0) + 1"
   ]
  },
  {
   "cell_type": "code",
   "execution_count": 56,
   "id": "41fce1e7",
   "metadata": {},
   "outputs": [],
   "source": [
    "total_rev_shop_item = sales_train.groupby(['date_block_num','shop_id','item_id'])['revenue'].sum().reset_index().copy()\n",
    "total_rev_shop_item = total_rev_shop_item.rename(columns={\"revenue\":\"revenue_shop_item\"})"
   ]
  },
  {
   "cell_type": "code",
   "execution_count": 57,
   "id": "e582ddca",
   "metadata": {},
   "outputs": [],
   "source": [
    "total_rev_shop_item['date_block_num_-1'] = total_rev_shop_item['date_block_num'] - 1\n",
    "total_rev_shop_item['date_block_num_-13'] = total_rev_shop_item['date_block_num'] - 13"
   ]
  },
  {
   "cell_type": "code",
   "execution_count": 58,
   "id": "6a3b75e1",
   "metadata": {},
   "outputs": [],
   "source": [
    "total_rev_shop_item_1 = 1 + total_rev_shop_item.set_index([\"date_block_num_-1\",\"shop_id\",\"item_id\"])['revenue_shop_item'].reset_index().rename(columns={\"revenue_shop_item\":\"revenue_shop_item-1\"})\n",
    "total_rev_shop_item_13 = 1 + total_rev_shop_item.set_index([\"date_block_num_-13\",\"shop_id\",\"item_id\"])['revenue_shop_item'].reset_index().rename(columns={\"revenue_shop_item\":\"revenue_shop_item-13\"})"
   ]
  },
  {
   "cell_type": "code",
   "execution_count": null,
   "id": "c88c895c",
   "metadata": {},
   "outputs": [],
   "source": []
  },
  {
   "cell_type": "code",
   "execution_count": 59,
   "id": "2bc60680",
   "metadata": {},
   "outputs": [],
   "source": [
    "sales_train['item_category_id'] = sales_train['item_id'].map(items.set_index(\"item_id\")['item_category_id'])"
   ]
  },
  {
   "cell_type": "code",
   "execution_count": 60,
   "id": "72d925df",
   "metadata": {},
   "outputs": [],
   "source": [
    "total_rev_category = sales_train.groupby(['date_block_num','item_category_id'])['revenue'].sum().reset_index().copy()\n",
    "total_rev_category = total_rev_category.rename(columns={\"revenue\":\"revenue_category\"})"
   ]
  },
  {
   "cell_type": "code",
   "execution_count": 61,
   "id": "029ea239",
   "metadata": {},
   "outputs": [],
   "source": [
    "total_rev_category['date_block_num_-1'] = total_rev_category['date_block_num'] - 1\n",
    "total_rev_category['date_block_num_-13'] = total_rev_category['date_block_num'] - 13"
   ]
  },
  {
   "cell_type": "code",
   "execution_count": 62,
   "id": "9082bdfe",
   "metadata": {},
   "outputs": [],
   "source": [
    "total_rev_category_1 = 1 + total_rev_category.set_index([\"date_block_num_-1\",\"item_category_id\"])['revenue_category'].reset_index().rename(columns={\"revenue_category\":\"revenue_category-1\"})\n",
    "total_rev_category_13 = 1 + total_rev_category.set_index([\"date_block_num_-13\",\"item_category_id\"])['revenue_category'].reset_index().rename(columns={\"revenue_category\":\"revenue_category-13\"})"
   ]
  },
  {
   "cell_type": "code",
   "execution_count": 63,
   "id": "ac6d0f39",
   "metadata": {},
   "outputs": [],
   "source": [
    "all_data = all_data.merge(total_rev_shop_1, how = 'left', left_on = ['date_block_num','shop_id'], right_on=['date_block_num_-1','shop_id'])\n",
    "all_data = all_data.merge(total_rev_shop_13, how = 'left', left_on = ['date_block_num','shop_id'], right_on=['date_block_num_-13','shop_id'])"
   ]
  },
  {
   "cell_type": "code",
   "execution_count": 64,
   "id": "7661e31e",
   "metadata": {},
   "outputs": [],
   "source": [
    "all_data['rev_shop_ratio'] = all_data['revenue_shop_-1']/all_data['revenue_shop_-13']"
   ]
  },
  {
   "cell_type": "code",
   "execution_count": 65,
   "id": "3045d2ef",
   "metadata": {},
   "outputs": [],
   "source": [
    "all_data = all_data.merge(total_rev_item_1, how = 'left', left_on=['date_block_num', 'item_id'],right_on = [\"date_block_num_-1\",\"item_id\"])\n",
    "all_data = all_data.merge(total_rev_item_13, how = 'left', left_on = ['date_block_num','item_id'], right_on=['date_block_num_-13','item_id'])"
   ]
  },
  {
   "cell_type": "code",
   "execution_count": 66,
   "id": "8ebbaaae",
   "metadata": {},
   "outputs": [],
   "source": [
    "all_data['rev_item_ratio'] = all_data['revenue_item_-1']/all_data['revenue_item_-13']"
   ]
  },
  {
   "cell_type": "code",
   "execution_count": 67,
   "id": "dd7718e3",
   "metadata": {},
   "outputs": [
    {
     "data": {
      "text/plain": [
       "119347.85"
      ]
     },
     "execution_count": 67,
     "metadata": {},
     "output_type": "execute_result"
    }
   ],
   "source": [
    "all_data['rev_item_ratio'].max()"
   ]
  },
  {
   "cell_type": "code",
   "execution_count": 68,
   "id": "74bcbdac",
   "metadata": {},
   "outputs": [
    {
     "name": "stderr",
     "output_type": "stream",
     "text": [
      "/Users/menoci/.pyenv/versions/3.8.11/lib/python3.8/site-packages/pandas/core/frame.py:9191: FutureWarning: Passing 'suffixes' which cause duplicate columns {'date_block_num_-1_x'} in the result is deprecated and will raise a MergeError in a future version.\n",
      "  return merge(\n"
     ]
    }
   ],
   "source": [
    "all_data = all_data.merge(total_rev_shop_item_1, how = 'left', left_on=[\"date_block_num\",\"shop_id\",\"item_id\"],right_on = [\"date_block_num_-1\",\"shop_id\",\"item_id\"])\n",
    "all_data = all_data.merge(total_rev_shop_item_13, how = 'left', left_on=[\"date_block_num\",\"shop_id\",\"item_id\"],right_on = [\"date_block_num_-13\",\"shop_id\",\"item_id\"])"
   ]
  },
  {
   "cell_type": "code",
   "execution_count": 69,
   "id": "e73551bf",
   "metadata": {},
   "outputs": [],
   "source": [
    "all_data['rev_shop_item_ratio'] = all_data['revenue_shop_item-1']/all_data['revenue_shop_item-13']"
   ]
  },
  {
   "cell_type": "code",
   "execution_count": 70,
   "id": "a5c19f42",
   "metadata": {},
   "outputs": [
    {
     "name": "stderr",
     "output_type": "stream",
     "text": [
      "/Users/menoci/.pyenv/versions/3.8.11/lib/python3.8/site-packages/pandas/core/frame.py:9191: FutureWarning: Passing 'suffixes' which cause duplicate columns {'date_block_num_-13_x'} in the result is deprecated and will raise a MergeError in a future version.\n",
      "  return merge(\n"
     ]
    }
   ],
   "source": [
    "all_data = all_data.merge(total_rev_category_1, how = 'left', left_on=[\"date_block_num\",\"item_category_id\"],right_on = [\"date_block_num_-1\",\"item_category_id\"])\n",
    "all_data = all_data.merge(total_rev_category_13, how = 'left', left_on=[\"date_block_num\",\"item_category_id\"],right_on = [\"date_block_num_-13\",\"item_category_id\"])"
   ]
  },
  {
   "cell_type": "code",
   "execution_count": 71,
   "id": "36cd0577",
   "metadata": {},
   "outputs": [],
   "source": [
    "all_data['rev_category_ratio'] = all_data['revenue_category-1']/all_data['revenue_category-13']"
   ]
  },
  {
   "cell_type": "code",
   "execution_count": null,
   "id": "94e4be44",
   "metadata": {},
   "outputs": [],
   "source": []
  },
  {
   "cell_type": "code",
   "execution_count": 72,
   "id": "42dd91e4",
   "metadata": {},
   "outputs": [],
   "source": [
    "features = [\n",
    " 'category_enc_em',\n",
    " 'item_enc_em',\n",
    " 'shop_enc_em',\n",
    " 'item_shop_enc_em',\n",
    " 'target-1',\n",
    " 'target-13',\n",
    " 'mean_mean_item_discount',\n",
    " 'mean_min_item_discount',\n",
    " 'mean_max_item_discount',\n",
    " 'rev_shop_ratio',\n",
    " 'rev_item_ratio',\n",
    " 'rev_shop_item_ratio',\n",
    " 'rev_category_ratio']\n",
    "\n",
    "y = all_data['target']\n",
    "X = all_data[features]\n",
    "\n",
    "X = X.fillna(-999)\n",
    "\n",
    "X_train, X_test, y_train, y_test = train_test_split(X, y, test_size=0.25, random_state=42)"
   ]
  },
  {
   "cell_type": "code",
   "execution_count": 73,
   "id": "9f20c5f7",
   "metadata": {},
   "outputs": [
    {
     "data": {
      "text/plain": [
       "category_enc_em            6.265650e+05\n",
       "item_enc_em                1.996842e+02\n",
       "shop_enc_em                9.200000e+00\n",
       "item_shop_enc_em           1.242000e+03\n",
       "target-1                   2.253000e+03\n",
       "target-13                  2.253000e+03\n",
       "mean_mean_item_discount    2.580576e+01\n",
       "mean_min_item_discount     5.197000e+03\n",
       "mean_max_item_discount     2.220446e-16\n",
       "rev_shop_ratio             5.683179e+00\n",
       "rev_item_ratio             1.193479e+05\n",
       "rev_shop_item_ratio        2.473300e+04\n",
       "rev_category_ratio         1.397786e+03\n",
       "dtype: float64"
      ]
     },
     "execution_count": 73,
     "metadata": {},
     "output_type": "execute_result"
    }
   ],
   "source": [
    "X_train.max()"
   ]
  },
  {
   "cell_type": "code",
   "execution_count": 74,
   "id": "4edce70b",
   "metadata": {},
   "outputs": [
    {
     "name": "stdout",
     "output_type": "stream",
     "text": [
      "[21:27:39] WARNING: /Users/travis/build/dmlc/xgboost/src/learner.cc:573: \n",
      "Parameters: { \"objectvie\" } might not be used.\n",
      "\n",
      "  This may not be accurate due to some parameters are only used in language bindings but\n",
      "  passed down to XGBoost core.  Or some parameters are not used but slip through this\n",
      "  verification. Please open an issue if you find above cases.\n",
      "\n",
      "\n"
     ]
    },
    {
     "data": {
      "text/plain": [
       "XGBRegressor(base_score=0.5, booster='gbtree', colsample_bylevel=1,\n",
       "             colsample_bynode=1, colsample_bytree=1, gamma=0, gpu_id=-1,\n",
       "             importance_type='gain', interaction_constraints='',\n",
       "             learning_rate=0.05, max_delta_step=0, max_depth=6,\n",
       "             min_child_weight=1, missing=nan, monotone_constraints='()',\n",
       "             n_estimators=100, n_jobs=8, num_parallel_tree=1,\n",
       "             objectvie='reg:squarederror', random_state=42, reg_alpha=0,\n",
       "             reg_lambda=1, scale_pos_weight=1, subsample=1,\n",
       "             tree_method='approx', validate_parameters=1, verbosity=1)"
      ]
     },
     "execution_count": 74,
     "metadata": {},
     "output_type": "execute_result"
    }
   ],
   "source": [
    "xgb_reg = xgb.XGBRegressor(max_depth=6, n_estimators=100, n_jobs=8,\n",
    "                           objectvie='reg:squarederror', booster='gbtree',\n",
    "                           random_state=42, learning_rate=0.05, verbosity = 1)\n",
    "\n",
    "xgb_reg.fit(X_train, y_train)"
   ]
  },
  {
   "cell_type": "code",
   "execution_count": 75,
   "id": "7329b85c",
   "metadata": {},
   "outputs": [
    {
     "data": {
      "text/plain": [
       "4.921989960084637"
      ]
     },
     "execution_count": 75,
     "metadata": {},
     "output_type": "execute_result"
    }
   ],
   "source": [
    "mean_squared_error(xgb_reg.predict(X_train), y_train)"
   ]
  },
  {
   "cell_type": "code",
   "execution_count": 80,
   "id": "45b9c1ca",
   "metadata": {},
   "outputs": [
    {
     "data": {
      "text/plain": [
       "6.6933582504241755"
      ]
     },
     "execution_count": 80,
     "metadata": {},
     "output_type": "execute_result"
    }
   ],
   "source": [
    "mean_squared_error(xgb_reg.predict(X_test), y_test)"
   ]
  },
  {
   "cell_type": "code",
   "execution_count": 78,
   "id": "629e9f0d",
   "metadata": {},
   "outputs": [
    {
     "data": {
      "text/plain": [
       "count    2.728463e+06\n",
       "mean     3.383289e-01\n",
       "std      3.680209e+00\n",
       "min     -5.000000e+00\n",
       "25%      0.000000e+00\n",
       "50%      0.000000e+00\n",
       "75%      0.000000e+00\n",
       "max      1.644000e+03\n",
       "Name: target, dtype: float64"
      ]
     },
     "execution_count": 78,
     "metadata": {},
     "output_type": "execute_result"
    }
   ],
   "source": [
    "y_test.describe()"
   ]
  },
  {
   "cell_type": "code",
   "execution_count": null,
   "id": "fcf21b6e",
   "metadata": {},
   "outputs": [],
   "source": []
  },
  {
   "cell_type": "code",
   "execution_count": 83,
   "id": "3c82dfff",
   "metadata": {},
   "outputs": [
    {
     "data": {
      "text/plain": [
       "<AxesSubplot:xlabel='date_block_num'>"
      ]
     },
     "execution_count": 83,
     "metadata": {},
     "output_type": "execute_result"
    },
    {
     "data": {
      "image/png": "[encoded data removed]",
      "text/plain": [
       "<Figure size 432x288 with 1 Axes>"
      ]
     },
     "metadata": {
      "needs_background": "light"
     },
     "output_type": "display_data"
    }
   ],
   "source": [
    "total_rev[total_rev['shop_id'] == 4].set_index('date_block_num')['revenue'].plot()"
   ]
  },
  {
   "cell_type": "code",
   "execution_count": null,
   "id": "dbdcde78",
   "metadata": {},
   "outputs": [],
   "source": []
  },
  {
   "cell_type": "code",
   "execution_count": 192,
   "id": "d5fcd5c9",
   "metadata": {},
   "outputs": [
    {
     "data": {
      "text/html": [
       "<div>\n",
       "<style scoped>\n",
       "    .dataframe tbody tr th:only-of-type {\n",
       "        vertical-align: middle;\n",
       "    }\n",
       "\n",
       "    .dataframe tbody tr th {\n",
       "        vertical-align: top;\n",
       "    }\n",
       "\n",
       "    .dataframe thead th {\n",
       "        text-align: right;\n",
       "    }\n",
       "</style>\n",
       "<table border=\"1\" class=\"dataframe\">\n",
       "  <thead>\n",
       "    <tr style=\"text-align: right;\">\n",
       "      <th></th>\n",
       "      <th>item_category_name</th>\n",
       "      <th>item_category_id</th>\n",
       "    </tr>\n",
       "  </thead>\n",
       "  <tbody>\n",
       "    <tr>\n",
       "      <th>0</th>\n",
       "      <td>PC - Гарнитуры/Наушники</td>\n",
       "      <td>0</td>\n",
       "    </tr>\n",
       "    <tr>\n",
       "      <th>1</th>\n",
       "      <td>Аксессуары - PS2</td>\n",
       "      <td>1</td>\n",
       "    </tr>\n",
       "    <tr>\n",
       "      <th>2</th>\n",
       "      <td>Аксессуары - PS3</td>\n",
       "      <td>2</td>\n",
       "    </tr>\n",
       "    <tr>\n",
       "      <th>3</th>\n",
       "      <td>Аксессуары - PS4</td>\n",
       "      <td>3</td>\n",
       "    </tr>\n",
       "    <tr>\n",
       "      <th>4</th>\n",
       "      <td>Аксессуары - PSP</td>\n",
       "      <td>4</td>\n",
       "    </tr>\n",
       "  </tbody>\n",
       "</table>\n",
       "</div>"
      ],
      "text/plain": [
       "        item_category_name  item_category_id\n",
       "0  PC - Гарнитуры/Наушники                 0\n",
       "1         Аксессуары - PS2                 1\n",
       "2         Аксессуары - PS3                 2\n",
       "3         Аксессуары - PS4                 3\n",
       "4         Аксессуары - PSP                 4"
      ]
     },
     "execution_count": 192,
     "metadata": {},
     "output_type": "execute_result"
    }
   ],
   "source": [
    "item_categories.head()"
   ]
  },
  {
   "cell_type": "code",
   "execution_count": null,
   "id": "00d3ef2e",
   "metadata": {},
   "outputs": [],
   "source": []
  },
  {
   "cell_type": "code",
   "execution_count": 182,
   "id": "30767f31",
   "metadata": {},
   "outputs": [
    {
     "data": {
      "text/plain": [
       "0.3492571986132471"
      ]
     },
     "execution_count": 182,
     "metadata": {},
     "output_type": "execute_result"
    }
   ],
   "source": [
    "xgb_reg.score(X_train, y_train)"
   ]
  },
  {
   "cell_type": "code",
   "execution_count": 183,
   "id": "c2d0900d",
   "metadata": {},
   "outputs": [
    {
     "data": {
      "text/plain": [
       "0.3338165417624763"
      ]
     },
     "execution_count": 183,
     "metadata": {},
     "output_type": "execute_result"
    }
   ],
   "source": [
    "xgb_reg.score(X_test, y_test)"
   ]
  },
  {
   "cell_type": "code",
   "execution_count": null,
   "id": "6b499671",
   "metadata": {},
   "outputs": [],
   "source": []
  }
 ],
 "metadata": {
  "kernelspec": {
   "display_name": "kaggle_sales",
   "language": "python",
   "name": "kaggle_sales"
  },
  "language_info": {
   "codemirror_mode": {
    "name": "ipython",
    "version": 3
   },
   "file_extension": ".py",
   "mimetype": "text/x-python",
   "name": "python",
   "nbconvert_exporter": "python",
   "pygments_lexer": "ipython3",
   "version": "3.8.11"
  }
 },
 "nbformat": 4,
 "nbformat_minor": 5
}
