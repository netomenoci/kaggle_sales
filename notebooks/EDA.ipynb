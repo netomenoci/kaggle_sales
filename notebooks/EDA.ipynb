{
 "cells": [
  {
   "cell_type": "code",
   "execution_count": 1,
   "id": "c1bdedb4",
   "metadata": {},
   "outputs": [],
   "source": [
    "import sys\n",
    "sys.path.append(\"../\") # go to parent dir\n",
    "%load_ext autoreload\n",
    "%autoreload 2"
   ]
  },
  {
   "cell_type": "code",
   "execution_count": 2,
   "id": "eec61538",
   "metadata": {},
   "outputs": [],
   "source": [
    "import xgboost as xgb\n",
    "from sklearn.ensemble import RandomForestRegressor"
   ]
  },
  {
   "cell_type": "code",
   "execution_count": 3,
   "id": "94009d85",
   "metadata": {},
   "outputs": [],
   "source": [
    "import pandas as pd\n",
    "from sklearn.model_selection import train_test_split\n",
    "import numpy as np\n",
    "from sklearn.metrics import mean_squared_error"
   ]
  },
  {
   "cell_type": "markdown",
   "id": "46750f72",
   "metadata": {},
   "source": [
    "### Import data"
   ]
  },
  {
   "cell_type": "code",
   "execution_count": 4,
   "id": "f98eefef",
   "metadata": {},
   "outputs": [],
   "source": [
    "item_categories = pd.read_csv('../data/item_categories.csv')\n",
    "items = pd.read_csv(\"../data/items.csv\")\n",
    "sales_train = pd.read_csv(\"../data/sales_train.csv\")\n",
    "shops = pd.read_csv(\"../data/shops.csv\")\n",
    "test_df = pd.read_csv(\"../data/test.csv\", index_col=0)\n",
    "sample_subm = pd.read_csv('../data/sample_submission.csv')"
   ]
  },
  {
   "cell_type": "code",
   "execution_count": 5,
   "id": "c14fe56c",
   "metadata": {},
   "outputs": [],
   "source": [
    "# Nov 2015\n",
    "test_df['date_block_num'] = 34"
   ]
  },
  {
   "cell_type": "code",
   "execution_count": 6,
   "id": "55c120fc",
   "metadata": {},
   "outputs": [
    {
     "data": {
      "text/plain": [
       "(84, 2)"
      ]
     },
     "execution_count": 6,
     "metadata": {},
     "output_type": "execute_result"
    }
   ],
   "source": [
    "# Seems useless - item_name -> item_id, item_category_id mappings are already inside items dataframe\n",
    "item_categories.shape"
   ]
  },
  {
   "cell_type": "code",
   "execution_count": 7,
   "id": "b11bd9dc",
   "metadata": {},
   "outputs": [
    {
     "data": {
      "text/plain": [
       "(22170, 3)"
      ]
     },
     "execution_count": 7,
     "metadata": {},
     "output_type": "execute_result"
    }
   ],
   "source": [
    "items.shape"
   ]
  },
  {
   "cell_type": "code",
   "execution_count": 8,
   "id": "a40837f4",
   "metadata": {},
   "outputs": [
    {
     "data": {
      "text/plain": [
       "(2935849, 6)"
      ]
     },
     "execution_count": 8,
     "metadata": {},
     "output_type": "execute_result"
    }
   ],
   "source": [
    "sales_train.shape"
   ]
  },
  {
   "cell_type": "code",
   "execution_count": 9,
   "id": "a29e8d02",
   "metadata": {},
   "outputs": [
    {
     "data": {
      "text/plain": [
       "(60, 2)"
      ]
     },
     "execution_count": 9,
     "metadata": {},
     "output_type": "execute_result"
    }
   ],
   "source": [
    "# Seems useless - Only maps to shop name\n",
    "shops.shape"
   ]
  },
  {
   "cell_type": "code",
   "execution_count": 10,
   "id": "67ab121f",
   "metadata": {},
   "outputs": [
    {
     "data": {
      "text/html": [
       "<div>\n",
       "<style scoped>\n",
       "    .dataframe tbody tr th:only-of-type {\n",
       "        vertical-align: middle;\n",
       "    }\n",
       "\n",
       "    .dataframe tbody tr th {\n",
       "        vertical-align: top;\n",
       "    }\n",
       "\n",
       "    .dataframe thead th {\n",
       "        text-align: right;\n",
       "    }\n",
       "</style>\n",
       "<table border=\"1\" class=\"dataframe\">\n",
       "  <thead>\n",
       "    <tr style=\"text-align: right;\">\n",
       "      <th></th>\n",
       "      <th>item_name</th>\n",
       "      <th>item_id</th>\n",
       "      <th>item_category_id</th>\n",
       "    </tr>\n",
       "  </thead>\n",
       "  <tbody>\n",
       "    <tr>\n",
       "      <th>0</th>\n",
       "      <td>! ВО ВЛАСТИ НАВАЖДЕНИЯ (ПЛАСТ.)         D</td>\n",
       "      <td>0</td>\n",
       "      <td>40</td>\n",
       "    </tr>\n",
       "    <tr>\n",
       "      <th>1</th>\n",
       "      <td>!ABBYY FineReader 12 Professional Edition Full...</td>\n",
       "      <td>1</td>\n",
       "      <td>76</td>\n",
       "    </tr>\n",
       "    <tr>\n",
       "      <th>2</th>\n",
       "      <td>***В ЛУЧАХ СЛАВЫ   (UNV)                    D</td>\n",
       "      <td>2</td>\n",
       "      <td>40</td>\n",
       "    </tr>\n",
       "    <tr>\n",
       "      <th>3</th>\n",
       "      <td>***ГОЛУБАЯ ВОЛНА  (Univ)                      D</td>\n",
       "      <td>3</td>\n",
       "      <td>40</td>\n",
       "    </tr>\n",
       "    <tr>\n",
       "      <th>4</th>\n",
       "      <td>***КОРОБКА (СТЕКЛО)                       D</td>\n",
       "      <td>4</td>\n",
       "      <td>40</td>\n",
       "    </tr>\n",
       "  </tbody>\n",
       "</table>\n",
       "</div>"
      ],
      "text/plain": [
       "                                           item_name  item_id  \\\n",
       "0          ! ВО ВЛАСТИ НАВАЖДЕНИЯ (ПЛАСТ.)         D        0   \n",
       "1  !ABBYY FineReader 12 Professional Edition Full...        1   \n",
       "2      ***В ЛУЧАХ СЛАВЫ   (UNV)                    D        2   \n",
       "3    ***ГОЛУБАЯ ВОЛНА  (Univ)                      D        3   \n",
       "4        ***КОРОБКА (СТЕКЛО)                       D        4   \n",
       "\n",
       "   item_category_id  \n",
       "0                40  \n",
       "1                76  \n",
       "2                40  \n",
       "3                40  \n",
       "4                40  "
      ]
     },
     "execution_count": 10,
     "metadata": {},
     "output_type": "execute_result"
    }
   ],
   "source": [
    "items.head()"
   ]
  },
  {
   "cell_type": "code",
   "execution_count": 11,
   "id": "bc091c01",
   "metadata": {},
   "outputs": [
    {
     "data": {
      "text/html": [
       "<div>\n",
       "<style scoped>\n",
       "    .dataframe tbody tr th:only-of-type {\n",
       "        vertical-align: middle;\n",
       "    }\n",
       "\n",
       "    .dataframe tbody tr th {\n",
       "        vertical-align: top;\n",
       "    }\n",
       "\n",
       "    .dataframe thead th {\n",
       "        text-align: right;\n",
       "    }\n",
       "</style>\n",
       "<table border=\"1\" class=\"dataframe\">\n",
       "  <thead>\n",
       "    <tr style=\"text-align: right;\">\n",
       "      <th></th>\n",
       "      <th>date</th>\n",
       "      <th>date_block_num</th>\n",
       "      <th>shop_id</th>\n",
       "      <th>item_id</th>\n",
       "      <th>item_price</th>\n",
       "      <th>item_cnt_day</th>\n",
       "    </tr>\n",
       "  </thead>\n",
       "  <tbody>\n",
       "    <tr>\n",
       "      <th>0</th>\n",
       "      <td>02.01.2013</td>\n",
       "      <td>0</td>\n",
       "      <td>59</td>\n",
       "      <td>22154</td>\n",
       "      <td>999.00</td>\n",
       "      <td>1.0</td>\n",
       "    </tr>\n",
       "    <tr>\n",
       "      <th>1</th>\n",
       "      <td>03.01.2013</td>\n",
       "      <td>0</td>\n",
       "      <td>25</td>\n",
       "      <td>2552</td>\n",
       "      <td>899.00</td>\n",
       "      <td>1.0</td>\n",
       "    </tr>\n",
       "    <tr>\n",
       "      <th>2</th>\n",
       "      <td>05.01.2013</td>\n",
       "      <td>0</td>\n",
       "      <td>25</td>\n",
       "      <td>2552</td>\n",
       "      <td>899.00</td>\n",
       "      <td>-1.0</td>\n",
       "    </tr>\n",
       "    <tr>\n",
       "      <th>3</th>\n",
       "      <td>06.01.2013</td>\n",
       "      <td>0</td>\n",
       "      <td>25</td>\n",
       "      <td>2554</td>\n",
       "      <td>1709.05</td>\n",
       "      <td>1.0</td>\n",
       "    </tr>\n",
       "    <tr>\n",
       "      <th>4</th>\n",
       "      <td>15.01.2013</td>\n",
       "      <td>0</td>\n",
       "      <td>25</td>\n",
       "      <td>2555</td>\n",
       "      <td>1099.00</td>\n",
       "      <td>1.0</td>\n",
       "    </tr>\n",
       "  </tbody>\n",
       "</table>\n",
       "</div>"
      ],
      "text/plain": [
       "         date  date_block_num  shop_id  item_id  item_price  item_cnt_day\n",
       "0  02.01.2013               0       59    22154      999.00           1.0\n",
       "1  03.01.2013               0       25     2552      899.00           1.0\n",
       "2  05.01.2013               0       25     2552      899.00          -1.0\n",
       "3  06.01.2013               0       25     2554     1709.05           1.0\n",
       "4  15.01.2013               0       25     2555     1099.00           1.0"
      ]
     },
     "execution_count": 11,
     "metadata": {},
     "output_type": "execute_result"
    }
   ],
   "source": [
    "sales_train.head()"
   ]
  },
  {
   "cell_type": "markdown",
   "id": "18532cbd",
   "metadata": {},
   "source": [
    "### Let's aggregate the data monthly, as predictions are expected to be monthly as well"
   ]
  },
  {
   "cell_type": "code",
   "execution_count": 12,
   "id": "2fb2705d",
   "metadata": {},
   "outputs": [],
   "source": [
    "from src.staging import create_dataset"
   ]
  },
  {
   "cell_type": "code",
   "execution_count": 13,
   "id": "f7c62f11",
   "metadata": {},
   "outputs": [],
   "source": [
    "train_df = create_dataset(sales_train)"
   ]
  },
  {
   "cell_type": "code",
   "execution_count": 14,
   "id": "010ae920",
   "metadata": {},
   "outputs": [],
   "source": [
    "train_df[\"ID\"] = range(len(test_df), len(test_df) + len(train_df))"
   ]
  },
  {
   "cell_type": "code",
   "execution_count": 15,
   "id": "756fe1f2",
   "metadata": {},
   "outputs": [],
   "source": [
    "test_df = test_df.reset_index(drop = False)"
   ]
  },
  {
   "cell_type": "code",
   "execution_count": 16,
   "id": "fa7b4295",
   "metadata": {},
   "outputs": [
    {
     "data": {
      "text/plain": [
       "<AxesSubplot:ylabel='Frequency'>"
      ]
     },
     "execution_count": 16,
     "metadata": {},
     "output_type": "execute_result"
    },
    {
     "data": {
      "image/png": "[encoded data removed]",
      "text/plain": [
       "<Figure size 432x288 with 1 Axes>"
      ]
     },
     "metadata": {
      "needs_background": "light"
     },
     "output_type": "display_data"
    }
   ],
   "source": [
    "train_df['target'].plot(kind='hist', bins = np.arange(0,20,2))"
   ]
  },
  {
   "cell_type": "markdown",
   "id": "8f002452",
   "metadata": {},
   "source": [
    "#### All shops are included in train -> Test has only a subset of these shops"
   ]
  },
  {
   "cell_type": "code",
   "execution_count": 17,
   "id": "43e2fb19",
   "metadata": {},
   "outputs": [],
   "source": [
    "from src.processing import compare_sets"
   ]
  },
  {
   "cell_type": "code",
   "execution_count": 18,
   "id": "885cdc2e",
   "metadata": {},
   "outputs": [
    {
     "name": "stdout",
     "output_type": "stream",
     "text": [
      "set 1 size: 60\n",
      "set 2 size: 42\n",
      "Union size: 60\n",
      "set 1 unique elements: 18\n",
      "set 2 unique elements: 0\n"
     ]
    }
   ],
   "source": [
    "compare_sets(set(train_df['shop_id'].unique()), set(test_df['shop_id'].unique()))"
   ]
  },
  {
   "cell_type": "markdown",
   "id": "ddaaf2b4",
   "metadata": {},
   "source": [
    "### There are new items in test never seen in train "
   ]
  },
  {
   "cell_type": "code",
   "execution_count": 19,
   "id": "941e6971",
   "metadata": {},
   "outputs": [
    {
     "name": "stdout",
     "output_type": "stream",
     "text": [
      "set 1 size: 21807\n",
      "set 2 size: 5100\n",
      "Union size: 22170\n",
      "set 1 unique elements: 17070\n",
      "set 2 unique elements: 363\n"
     ]
    }
   ],
   "source": [
    "compare_sets(set(train_df['item_id'].unique()), set(test_df['item_id'].unique()))"
   ]
  },
  {
   "cell_type": "code",
   "execution_count": 20,
   "id": "23b2f76b",
   "metadata": {},
   "outputs": [],
   "source": [
    "train_df['item_category_id'] = train_df['item_id'].map(items.set_index(\"item_id\")['item_category_id'])\n",
    "test_df['item_category_id'] = test_df['item_id'].map(items.set_index(\"item_id\")['item_category_id'])"
   ]
  },
  {
   "cell_type": "markdown",
   "id": "f55663dd",
   "metadata": {},
   "source": [
    "### The total quantity of products vary a lot in the training set per month, whereas all the shops in test set have the same qty of products (5100)"
   ]
  },
  {
   "cell_type": "code",
   "execution_count": 21,
   "id": "f35d08f6",
   "metadata": {},
   "outputs": [],
   "source": [
    "### Let's mean encode shop_id and item_id"
   ]
  },
  {
   "cell_type": "code",
   "execution_count": 22,
   "id": "231a7b50",
   "metadata": {},
   "outputs": [],
   "source": [
    "from src.processing import MeanEncoding, PreviousFeatures"
   ]
  },
  {
   "cell_type": "code",
   "execution_count": 23,
   "id": "3adc2271",
   "metadata": {},
   "outputs": [],
   "source": [
    "item_category_id_me = MeanEncoding(['item_category_id'], 'target')\n",
    "item_category_id_me.fit(train_df)\n",
    "train_df['category_enc_em'] = item_category_id_me.predict(train_df, \"train\")\n",
    "test_df['category_enc_em'] = item_category_id_me.predict(test_df, \"test\")"
   ]
  },
  {
   "cell_type": "code",
   "execution_count": 24,
   "id": "95b6ef6c",
   "metadata": {},
   "outputs": [],
   "source": [
    "item_item_id_me = MeanEncoding(['item_id'], 'target')\n",
    "item_item_id_me.fit(train_df)\n",
    "train_df['item_enc_em'] = item_item_id_me.predict(train_df, 'train')\n",
    "test_df['item_enc_em'] = item_item_id_me.predict(test_df, \"test\")"
   ]
  },
  {
   "cell_type": "code",
   "execution_count": 25,
   "id": "d70ec0f0",
   "metadata": {},
   "outputs": [],
   "source": [
    "item_shop_me = MeanEncoding(['shop_id'], 'target')\n",
    "item_shop_me.fit(train_df)\n",
    "train_df['shop_enc_em'] = item_shop_me.predict(train_df, 'train')\n",
    "test_df['shop_enc_em'] = item_shop_me.predict(test_df, \"test\")"
   ]
  },
  {
   "cell_type": "code",
   "execution_count": 26,
   "id": "e5d90959",
   "metadata": {},
   "outputs": [],
   "source": [
    "item_item_shop_me = MeanEncoding(['item_id','shop_id'], 'target')\n",
    "item_item_shop_me.fit(train_df)\n",
    "train_df['item_shop_enc_em'] = item_item_shop_me.predict(train_df, 'train')\n",
    "test_df['item_shop_enc_em'] = item_item_shop_me.predict(test_df, \"test\")"
   ]
  },
  {
   "cell_type": "code",
   "execution_count": 27,
   "id": "3e1bd97f",
   "metadata": {},
   "outputs": [],
   "source": [
    "features = ['item_enc_em','shop_enc_em','item_shop_enc_em', 'date_block_num']\n",
    "y = train_df['target']\n",
    "X = train_df[features]\n",
    "X_train, X_test, y_train, y_test = train_test_split(X, y, test_size=0.25, random_state=42)"
   ]
  },
  {
   "cell_type": "code",
   "execution_count": 28,
   "id": "2ac3f6c7",
   "metadata": {},
   "outputs": [
    {
     "data": {
      "text/plain": [
       "RandomForestRegressor(max_depth=7, max_features=0.7, n_estimators=7, n_jobs=7)"
      ]
     },
     "execution_count": 28,
     "metadata": {},
     "output_type": "execute_result"
    }
   ],
   "source": [
    "rf = RandomForestRegressor(n_estimators=7,max_depth=7,max_features= 0.7, n_jobs=7)\n",
    "rf.fit(X_train.fillna(-999), y_train)"
   ]
  },
  {
   "cell_type": "code",
   "execution_count": 29,
   "id": "728553fa",
   "metadata": {},
   "outputs": [
    {
     "data": {
      "text/plain": [
       "3.9160349101241447"
      ]
     },
     "execution_count": 29,
     "metadata": {},
     "output_type": "execute_result"
    }
   ],
   "source": [
    "mean_squared_error(rf.predict(X_train.fillna(-999)), y_train)"
   ]
  },
  {
   "cell_type": "code",
   "execution_count": 30,
   "id": "d50100d4",
   "metadata": {},
   "outputs": [
    {
     "data": {
      "text/plain": [
       "6.786854582609453"
      ]
     },
     "execution_count": 30,
     "metadata": {},
     "output_type": "execute_result"
    }
   ],
   "source": [
    "mean_squared_error(rf.predict(X_test.fillna(-999)), y_test)"
   ]
  },
  {
   "cell_type": "markdown",
   "id": "94c1c44f",
   "metadata": {},
   "source": [
    "#### Basemodel -> Test MSE = 6.191"
   ]
  },
  {
   "cell_type": "markdown",
   "id": "8e86ecfb",
   "metadata": {},
   "source": [
    "#### Add more features"
   ]
  },
  {
   "cell_type": "code",
   "execution_count": 31,
   "id": "3fa8c1fa",
   "metadata": {},
   "outputs": [],
   "source": [
    "from src.processing import PastAggregations"
   ]
  },
  {
   "cell_type": "code",
   "execution_count": 40,
   "id": "45c6c398",
   "metadata": {},
   "outputs": [],
   "source": [
    "epsilon = 1e-6\n",
    "sales_train['revenue'] = sales_train['item_price'] * sales_train['item_cnt_day']\n",
    "sales_train['item_category_id'] = sales_train['item_id'].map(items.set_index(\"item_id\")['item_category_id'])"
   ]
  },
  {
   "cell_type": "code",
   "execution_count": 32,
   "id": "7b7b75c5",
   "metadata": {},
   "outputs": [],
   "source": [
    "feat_name = \"target\"\n",
    "for k in [1,2,3,4,5,13]:\n",
    "    previous_targets = PreviousFeatures(feat_name=feat_name,unique_identifiers=['shop_id','item_id'], k = k)\n",
    "    previous_targets.fit(train_df)\n",
    "    new_name = feat_name + \"_-\" + str(k)\n",
    "    train_df[new_name] = previous_targets.predict(train_df)\n",
    "    test_df[new_name] = previous_targets.predict(test_df)"
   ]
  },
  {
   "cell_type": "code",
   "execution_count": 33,
   "id": "315fb083",
   "metadata": {},
   "outputs": [],
   "source": [
    "past_agg = PastAggregations(groupby_cols=['date_block_num','item_id', 'shop_id'], target_name='item_price')\n",
    "past_agg.fit(sales_train)\n",
    "train_df = pd.concat([train_df, past_agg.predict(train_df)], axis = 1)\n",
    "test_df = pd.concat([test_df, past_agg.predict(test_df)], axis = 1)"
   ]
  },
  {
   "cell_type": "code",
   "execution_count": 37,
   "id": "4c364ac1",
   "metadata": {},
   "outputs": [],
   "source": [
    "past_agg = PastAggregations(groupby_cols=['date_block_num','item_id'], target_name='item_price')\n",
    "past_agg.fit(sales_train)\n",
    "train_df = pd.concat([train_df, past_agg.predict(train_df)], axis = 1)\n",
    "test_df = pd.concat([test_df, past_agg.predict(test_df)], axis = 1)"
   ]
  },
  {
   "cell_type": "code",
   "execution_count": 38,
   "id": "102ee625",
   "metadata": {},
   "outputs": [],
   "source": [
    "train_df[\"mean_mean_item_discount\"] = train_df[\"item_price_mean-by-item_id-shop_id-1\"] / (train_df[\"item_price_mean-by-item_id-1\"].fillna(0) + epsilon)\n",
    "test_df[\"mean_mean_item_discount\"] = test_df[\"item_price_mean-by-item_id-shop_id-1\"] / (test_df[\"item_price_mean-by-item_id-1\"].fillna(0) + epsilon)\n",
    "\n",
    "\n",
    "train_df[\"mean_min_item_discount\"] = train_df[\"item_price_mean-by-item_id-shop_id-1\"] / (train_df[\"item_price_min-by-item_id-1\"].fillna(0) + epsilon)\n",
    "test_df[\"mean_min_item_discount\"] = test_df[\"item_price_mean-by-item_id-shop_id-1\"] / (test_df[\"item_price_min-by-item_id-1\"].fillna(0) + epsilon)"
   ]
  },
  {
   "cell_type": "code",
   "execution_count": 41,
   "id": "8ba58e44",
   "metadata": {},
   "outputs": [],
   "source": [
    "past_agg = PastAggregations(groupby_cols=['date_block_num','shop_id'], target_name='revenue',aggregations=['sum'], k=1)\n",
    "past_agg.fit(sales_train)\n",
    "train_df = pd.concat([train_df, past_agg.predict(train_df)], axis = 1)\n",
    "test_df = pd.concat([test_df, past_agg.predict(test_df)], axis = 1)\n",
    "\n",
    "\n",
    "past_agg = PastAggregations(groupby_cols=['date_block_num','shop_id'], target_name='revenue',aggregations=['sum'],  k=13)\n",
    "past_agg.fit(sales_train)\n",
    "train_df = pd.concat([train_df, past_agg.predict(train_df)], axis = 1)\n",
    "test_df = pd.concat([test_df, past_agg.predict(test_df)], axis = 1)"
   ]
  },
  {
   "cell_type": "code",
   "execution_count": 42,
   "id": "6939ac0c",
   "metadata": {},
   "outputs": [],
   "source": [
    "past_agg = PastAggregations(groupby_cols=['date_block_num','item_id'], target_name='revenue',aggregations=['sum'], k=13)\n",
    "past_agg.fit(sales_train)\n",
    "train_df = pd.concat([train_df, past_agg.predict(train_df)], axis = 1)\n",
    "test_df = pd.concat([test_df, past_agg.predict(test_df)], axis = 1)\n",
    "\n",
    "\n",
    "past_agg = PastAggregations(groupby_cols=['date_block_num','item_id'], target_name='revenue',aggregations=['sum'], k=1)\n",
    "past_agg.fit(sales_train)\n",
    "train_df = pd.concat([train_df, past_agg.predict(train_df)], axis = 1)\n",
    "test_df = pd.concat([test_df, past_agg.predict(test_df)], axis = 1)"
   ]
  },
  {
   "cell_type": "code",
   "execution_count": 43,
   "id": "3ab0e613",
   "metadata": {},
   "outputs": [],
   "source": [
    "past_agg = PastAggregations(groupby_cols=['date_block_num','shop_id', 'item_id'], target_name='revenue',aggregations=['sum'], k=1)\n",
    "past_agg.fit(sales_train)\n",
    "train_df = pd.concat([train_df, past_agg.predict(train_df)], axis = 1)\n",
    "test_df = pd.concat([test_df, past_agg.predict(test_df)], axis = 1)\n",
    "\n",
    "past_agg = PastAggregations(groupby_cols=['date_block_num','shop_id', 'item_id'], target_name='revenue', aggregations=['sum'], k=13)\n",
    "past_agg.fit(sales_train)\n",
    "train_df = pd.concat([train_df, past_agg.predict(train_df)], axis = 1)\n",
    "test_df = pd.concat([test_df, past_agg.predict(test_df)], axis = 1)\n"
   ]
  },
  {
   "cell_type": "code",
   "execution_count": 44,
   "id": "3dd91b1a",
   "metadata": {},
   "outputs": [],
   "source": [
    "past_agg = PastAggregations(groupby_cols=['date_block_num','item_category_id'], target_name='revenue',aggregations=['sum'], k=1)\n",
    "past_agg.fit(sales_train)\n",
    "train_df = pd.concat([train_df, past_agg.predict(train_df)], axis = 1)\n",
    "test_df = pd.concat([test_df, past_agg.predict(test_df)], axis = 1)\n",
    "\n",
    "past_agg = PastAggregations(groupby_cols=['date_block_num','item_category_id'], target_name='revenue',aggregations=['sum'], k=13)\n",
    "past_agg.fit(sales_train)\n",
    "train_df = pd.concat([train_df, past_agg.predict(train_df)], axis = 1)\n",
    "test_df = pd.concat([test_df, past_agg.predict(test_df)], axis = 1)\n"
   ]
  },
  {
   "cell_type": "code",
   "execution_count": 45,
   "id": "bad6dc5a",
   "metadata": {},
   "outputs": [],
   "source": [
    "train_df['rev_shop_ratio'] = train_df[\"revenue_sum-by-shop_id-1\"]/(train_df[\"revenue_sum-by-shop_id-13\"].fillna(0) + epsilon)\n",
    "test_df['rev_shop_ratio'] = test_df[\"revenue_sum-by-shop_id-1\"]/(test_df[\"revenue_sum-by-shop_id-13\"].fillna(0) + epsilon)"
   ]
  },
  {
   "cell_type": "code",
   "execution_count": null,
   "id": "0ab1b9a4",
   "metadata": {},
   "outputs": [],
   "source": []
  },
  {
   "cell_type": "code",
   "execution_count": 47,
   "id": "b5e63c82",
   "metadata": {},
   "outputs": [],
   "source": [
    "train_df[\"rev_item_ratio\"] = train_df['revenue_sum-by-item_id-1']/(train_df['revenue_sum-by-item_id-13'].fillna(0) + epsilon)\n",
    "test_df[\"rev_item_ratio\"] = test_df['revenue_sum-by-item_id-1']/(test_df['revenue_sum-by-item_id-13'].fillna(0) + epsilon)"
   ]
  },
  {
   "cell_type": "code",
   "execution_count": 48,
   "id": "a0627c6f",
   "metadata": {},
   "outputs": [],
   "source": [
    "train_df['rev_shop_item_ratio'] = train_df[\"revenue_sum-by-shop_id-item_id-1\"]/(train_df[\"revenue_sum-by-shop_id-item_id-1\"].fillna(0)+epsilon)\n",
    "test_df['rev_shop_item_ratio'] = test_df[\"revenue_sum-by-shop_id-item_id-1\"]/(test_df[\"revenue_sum-by-shop_id-item_id-1\"].fillna(0)+epsilon)"
   ]
  },
  {
   "cell_type": "code",
   "execution_count": 55,
   "id": "a5719bd6",
   "metadata": {},
   "outputs": [],
   "source": [
    "train_df['rev_category_ratio'] = train_df[\"revenue_sum-by-shop_id-item_id-1\"]/(train_df[\"revenue_sum-by-shop_id-item_id-1\"].fillna(0)+epsilon)\n",
    "test_df['rev_category_ratio'] = test_df[\"revenue_sum-by-shop_id-item_id-1\"]/(test_df[\"revenue_sum-by-shop_id-item_id-1\"].fillna(0)+epsilon)"
   ]
  },
  {
   "cell_type": "code",
   "execution_count": 56,
   "id": "36cd0577",
   "metadata": {},
   "outputs": [],
   "source": [
    "train_df['rev_category_ratio'] = train_df['revenue_sum-by-item_category_id-1']/(train_df['revenue_sum-by-item_category_id-13'].fillna(0) + epsilon)\n",
    "test_df['rev_category_ratio'] = test_df['revenue_sum-by-item_category_id-1']/(test_df['revenue_sum-by-item_category_id-13'].fillna(0) + epsilon)"
   ]
  },
  {
   "cell_type": "code",
   "execution_count": 60,
   "id": "42dd91e4",
   "metadata": {},
   "outputs": [],
   "source": [
    "features = [\n",
    " 'category_enc_em',\n",
    " 'item_enc_em',\n",
    " 'shop_enc_em',\n",
    " 'item_shop_enc_em',\n",
    " 'target_-1',\n",
    " 'target_-13',\n",
    " 'mean_mean_item_discount',\n",
    " 'mean_min_item_discount',\n",
    " 'rev_shop_ratio',\n",
    " 'rev_item_ratio',\n",
    " 'rev_shop_item_ratio',\n",
    " 'rev_category_ratio']\n",
    "\n",
    "y = train_df['target']\n",
    "X = train_df[features]\n",
    "\n",
    "X = X.fillna(-999)\n",
    "\n",
    "X_train, X_test, y_train, y_test = train_test_split(X, y, test_size=0.25, random_state=42)"
   ]
  },
  {
   "cell_type": "code",
   "execution_count": 66,
   "id": "9822cf63",
   "metadata": {},
   "outputs": [
    {
     "data": {
      "text/plain": [
       "RandomForestRegressor(max_depth=7, max_features=0.7, n_estimators=7, n_jobs=7)"
      ]
     },
     "execution_count": 66,
     "metadata": {},
     "output_type": "execute_result"
    }
   ],
   "source": [
    "rf = RandomForestRegressor(n_estimators=7,max_depth=7,max_features= 0.7, n_jobs=7)\n",
    "rf.fit(X_train.fillna(-999), y_train)"
   ]
  },
  {
   "cell_type": "code",
   "execution_count": 67,
   "id": "58e254b8",
   "metadata": {},
   "outputs": [
    {
     "data": {
      "text/plain": [
       "4.003573798883332"
      ]
     },
     "execution_count": 67,
     "metadata": {},
     "output_type": "execute_result"
    }
   ],
   "source": [
    "mean_squared_error(rf.predict(X_train.fillna(-999)), y_train)"
   ]
  },
  {
   "cell_type": "code",
   "execution_count": 77,
   "id": "2296b08d",
   "metadata": {},
   "outputs": [
    {
     "data": {
      "text/plain": [
       "2.1690391033402205"
      ]
     },
     "execution_count": 77,
     "metadata": {},
     "output_type": "execute_result"
    }
   ],
   "source": [
    "mean_squared_error(rf.predict(X_test.fillna(-999)), y_test, squared=False)"
   ]
  },
  {
   "cell_type": "markdown",
   "id": "cd91afdb",
   "metadata": {},
   "source": [
    "### Predict test data"
   ]
  },
  {
   "cell_type": "code",
   "execution_count": 68,
   "id": "ad77a6dd",
   "metadata": {},
   "outputs": [],
   "source": [
    "predictions = rf.predict(test_df[features].fillna(-999))"
   ]
  },
  {
   "cell_type": "code",
   "execution_count": 69,
   "id": "8deb7b19",
   "metadata": {},
   "outputs": [],
   "source": [
    "predictions = pd.DataFrame(data = {\"ID\":test_df['ID'], \"item_cnt_month\" :predictions})"
   ]
  },
  {
   "cell_type": "code",
   "execution_count": 70,
   "id": "cddf769a",
   "metadata": {},
   "outputs": [
    {
     "data": {
      "text/html": [
       "<div>\n",
       "<style scoped>\n",
       "    .dataframe tbody tr th:only-of-type {\n",
       "        vertical-align: middle;\n",
       "    }\n",
       "\n",
       "    .dataframe tbody tr th {\n",
       "        vertical-align: top;\n",
       "    }\n",
       "\n",
       "    .dataframe thead th {\n",
       "        text-align: right;\n",
       "    }\n",
       "</style>\n",
       "<table border=\"1\" class=\"dataframe\">\n",
       "  <thead>\n",
       "    <tr style=\"text-align: right;\">\n",
       "      <th></th>\n",
       "      <th>ID</th>\n",
       "      <th>item_cnt_month</th>\n",
       "    </tr>\n",
       "  </thead>\n",
       "  <tbody>\n",
       "    <tr>\n",
       "      <th>0</th>\n",
       "      <td>0</td>\n",
       "      <td>0.566633</td>\n",
       "    </tr>\n",
       "    <tr>\n",
       "      <th>1</th>\n",
       "      <td>1</td>\n",
       "      <td>0.120101</td>\n",
       "    </tr>\n",
       "    <tr>\n",
       "      <th>2</th>\n",
       "      <td>2</td>\n",
       "      <td>0.765727</td>\n",
       "    </tr>\n",
       "    <tr>\n",
       "      <th>3</th>\n",
       "      <td>3</td>\n",
       "      <td>0.359800</td>\n",
       "    </tr>\n",
       "    <tr>\n",
       "      <th>4</th>\n",
       "      <td>4</td>\n",
       "      <td>0.120101</td>\n",
       "    </tr>\n",
       "    <tr>\n",
       "      <th>...</th>\n",
       "      <td>...</td>\n",
       "      <td>...</td>\n",
       "    </tr>\n",
       "    <tr>\n",
       "      <th>214195</th>\n",
       "      <td>214195</td>\n",
       "      <td>0.665831</td>\n",
       "    </tr>\n",
       "    <tr>\n",
       "      <th>214196</th>\n",
       "      <td>214196</td>\n",
       "      <td>0.101509</td>\n",
       "    </tr>\n",
       "    <tr>\n",
       "      <th>214197</th>\n",
       "      <td>214197</td>\n",
       "      <td>0.101509</td>\n",
       "    </tr>\n",
       "    <tr>\n",
       "      <th>214198</th>\n",
       "      <td>214198</td>\n",
       "      <td>0.101509</td>\n",
       "    </tr>\n",
       "    <tr>\n",
       "      <th>214199</th>\n",
       "      <td>214199</td>\n",
       "      <td>0.120195</td>\n",
       "    </tr>\n",
       "  </tbody>\n",
       "</table>\n",
       "<p>214200 rows × 2 columns</p>\n",
       "</div>"
      ],
      "text/plain": [
       "            ID  item_cnt_month\n",
       "0            0        0.566633\n",
       "1            1        0.120101\n",
       "2            2        0.765727\n",
       "3            3        0.359800\n",
       "4            4        0.120101\n",
       "...        ...             ...\n",
       "214195  214195        0.665831\n",
       "214196  214196        0.101509\n",
       "214197  214197        0.101509\n",
       "214198  214198        0.101509\n",
       "214199  214199        0.120195\n",
       "\n",
       "[214200 rows x 2 columns]"
      ]
     },
     "execution_count": 70,
     "metadata": {},
     "output_type": "execute_result"
    }
   ],
   "source": [
    "predictions"
   ]
  },
  {
   "cell_type": "code",
   "execution_count": 73,
   "id": "3305d95a",
   "metadata": {},
   "outputs": [],
   "source": [
    "predictions.to_csv(\"prediction_2021_11_07.csv\", index=None)"
   ]
  },
  {
   "cell_type": "markdown",
   "id": "7e09c76c",
   "metadata": {},
   "source": [
    "#### Investigation"
   ]
  },
  {
   "cell_type": "code",
   "execution_count": 83,
   "id": "3c82dfff",
   "metadata": {},
   "outputs": [
    {
     "data": {
      "text/plain": [
       "<AxesSubplot:xlabel='date_block_num'>"
      ]
     },
     "execution_count": 83,
     "metadata": {},
     "output_type": "execute_result"
    },
    {
     "data": {
      "image/png": "[encoded data removed]",
      "text/plain": [
       "<Figure size 432x288 with 1 Axes>"
      ]
     },
     "metadata": {
      "needs_background": "light"
     },
     "output_type": "display_data"
    }
   ],
   "source": [
    "total_rev[total_rev['shop_id'] == 4].set_index('date_block_num')['revenue'].plot()"
   ]
  },
  {
   "cell_type": "code",
   "execution_count": 192,
   "id": "d5fcd5c9",
   "metadata": {},
   "outputs": [
    {
     "data": {
      "text/html": [
       "<div>\n",
       "<style scoped>\n",
       "    .dataframe tbody tr th:only-of-type {\n",
       "        vertical-align: middle;\n",
       "    }\n",
       "\n",
       "    .dataframe tbody tr th {\n",
       "        vertical-align: top;\n",
       "    }\n",
       "\n",
       "    .dataframe thead th {\n",
       "        text-align: right;\n",
       "    }\n",
       "</style>\n",
       "<table border=\"1\" class=\"dataframe\">\n",
       "  <thead>\n",
       "    <tr style=\"text-align: right;\">\n",
       "      <th></th>\n",
       "      <th>item_category_name</th>\n",
       "      <th>item_category_id</th>\n",
       "    </tr>\n",
       "  </thead>\n",
       "  <tbody>\n",
       "    <tr>\n",
       "      <th>0</th>\n",
       "      <td>PC - Гарнитуры/Наушники</td>\n",
       "      <td>0</td>\n",
       "    </tr>\n",
       "    <tr>\n",
       "      <th>1</th>\n",
       "      <td>Аксессуары - PS2</td>\n",
       "      <td>1</td>\n",
       "    </tr>\n",
       "    <tr>\n",
       "      <th>2</th>\n",
       "      <td>Аксессуары - PS3</td>\n",
       "      <td>2</td>\n",
       "    </tr>\n",
       "    <tr>\n",
       "      <th>3</th>\n",
       "      <td>Аксессуары - PS4</td>\n",
       "      <td>3</td>\n",
       "    </tr>\n",
       "    <tr>\n",
       "      <th>4</th>\n",
       "      <td>Аксессуары - PSP</td>\n",
       "      <td>4</td>\n",
       "    </tr>\n",
       "  </tbody>\n",
       "</table>\n",
       "</div>"
      ],
      "text/plain": [
       "        item_category_name  item_category_id\n",
       "0  PC - Гарнитуры/Наушники                 0\n",
       "1         Аксессуары - PS2                 1\n",
       "2         Аксессуары - PS3                 2\n",
       "3         Аксессуары - PS4                 3\n",
       "4         Аксессуары - PSP                 4"
      ]
     },
     "execution_count": 192,
     "metadata": {},
     "output_type": "execute_result"
    }
   ],
   "source": [
    "item_categories.head()"
   ]
  },
  {
   "cell_type": "code",
   "execution_count": null,
   "id": "00d3ef2e",
   "metadata": {},
   "outputs": [],
   "source": []
  },
  {
   "cell_type": "code",
   "execution_count": 182,
   "id": "30767f31",
   "metadata": {},
   "outputs": [
    {
     "data": {
      "text/plain": [
       "0.3492571986132471"
      ]
     },
     "execution_count": 182,
     "metadata": {},
     "output_type": "execute_result"
    }
   ],
   "source": [
    "xgb_reg.score(X_train, y_train)"
   ]
  },
  {
   "cell_type": "code",
   "execution_count": 183,
   "id": "c2d0900d",
   "metadata": {},
   "outputs": [
    {
     "data": {
      "text/plain": [
       "0.3338165417624763"
      ]
     },
     "execution_count": 183,
     "metadata": {},
     "output_type": "execute_result"
    }
   ],
   "source": [
    "xgb_reg.score(X_test, y_test)"
   ]
  },
  {
   "cell_type": "code",
   "execution_count": null,
   "id": "6b499671",
   "metadata": {},
   "outputs": [],
   "source": []
  }
 ],
 "metadata": {
  "kernelspec": {
   "display_name": "kaggle_sales",
   "language": "python",
   "name": "kaggle_sales"
  },
  "language_info": {
   "codemirror_mode": {
    "name": "ipython",
    "version": 3
   },
   "file_extension": ".py",
   "mimetype": "text/x-python",
   "name": "python",
   "nbconvert_exporter": "python",
   "pygments_lexer": "ipython3",
   "version": "3.8.11"
  }
 },
 "nbformat": 4,
 "nbformat_minor": 5
}
